{
 "cells": [
  {
   "cell_type": "code",
   "execution_count": null,
   "id": "empty-turtle",
   "metadata": {
    "ExecuteTime": {
     "end_time": "2021-04-22T21:14:50.436853Z",
     "start_time": "2021-04-22T21:14:49.777301Z"
    }
   },
   "outputs": [],
   "source": [
    "import os\n",
    "import json\n",
    "import importlib\n",
    "\n",
    "import glob as gb\n",
    "import utils as ut\n",
    "import numpy as np\n",
    "import pandas as pd\n",
    "import seaborn as sns\n",
    "import ipywidgets as pyw\n",
    "import matplotlib.pyplot as plt\n",
    "import matplotlib.image as Image\n",
    "\n",
    "from tqdm import tqdm\n",
    "from IPython.display import HTML, display, clear_output"
   ]
  },
  {
   "cell_type": "code",
   "execution_count": null,
   "id": "prime-concentrate",
   "metadata": {},
   "outputs": [],
   "source": [
    "importlib.reload(ut);"
   ]
  },
  {
   "cell_type": "code",
   "execution_count": null,
   "id": "supposed-retention",
   "metadata": {},
   "outputs": [],
   "source": [
    "%matplotlib inline"
   ]
  },
  {
   "cell_type": "markdown",
   "id": "formed-moldova",
   "metadata": {},
   "source": [
    "# Global"
   ]
  },
  {
   "cell_type": "code",
   "execution_count": null,
   "id": "considered-identification",
   "metadata": {},
   "outputs": [],
   "source": [
    "dark_mode = False"
   ]
  },
  {
   "cell_type": "code",
   "execution_count": null,
   "id": "artificial-jerusalem",
   "metadata": {},
   "outputs": [],
   "source": [
    "plt.rcParams['text.usetex'] = True\n",
    "plt.style.use(['dark_background' if dark_mode else 'default'])"
   ]
  },
  {
   "cell_type": "code",
   "execution_count": null,
   "id": "automated-lotus",
   "metadata": {
    "ExecuteTime": {
     "end_time": "2021-04-22T21:14:50.442595Z",
     "start_time": "2021-04-22T21:14:50.438637Z"
    }
   },
   "outputs": [],
   "source": [
    "pd.set_option('display.max_colwidth', None)"
   ]
  },
  {
   "cell_type": "markdown",
   "id": "lyric-shaft",
   "metadata": {},
   "source": [
    "# Data"
   ]
  },
  {
   "cell_type": "markdown",
   "id": "charitable-enterprise",
   "metadata": {},
   "source": [
    "## Load"
   ]
  },
  {
   "cell_type": "code",
   "execution_count": null,
   "id": "complicated-thong",
   "metadata": {
    "tags": []
   },
   "outputs": [],
   "source": [
    "# init\n",
    "data = {}\n",
    "df = pd.DataFrame()\n",
    "path = os.path.join('data', 'output', 'v10*', '**', 'data*.npz')\n",
    "\n",
    "# load pre-processed data\n",
    "for path_data in tqdm(sorted(gb.glob(path, recursive=True))):\n",
    "    \n",
    "    # file directory and file name\n",
    "    file_directory = os.path.dirname(path_data)\n",
    "    file_name, _ = os.path.splitext(os.path.basename(path_data))\n",
    "    \n",
    "    # filter by file name\n",
    "    file_filter = []\n",
    "    if any([x for x in file_filter if x in path_data]):\n",
    "         continue\n",
    "    \n",
    "    # load simulation parameters\n",
    "    parameters_json = next(iter(gb.glob(os.path.join(file_directory, 'parameters*.json'))), None)\n",
    "    if not parameters_json:\n",
    "        continue\n",
    "    parameters = json.load(open(parameters_json))\n",
    "    ut.del_keys(parameters, 'forest.persons')\n",
    "    ut.del_keys(parameters, 'material')\n",
    "    ut.del_keys(parameters, 'capture')\n",
    "    ut.del_keys(parameters, 'next')\n",
    "    ut.del_keys(parameters, 'url')\n",
    "    \n",
    "    # get parameter values\n",
    "    preset = ut.get_value(parameters, 'preset')\n",
    "    size = ut.get_value(parameters, 'forest.size')\n",
    "    height = ut.get_value(parameters, 'drone.height')\n",
    "    coverage = ut.get_value(parameters, 'drone.coverage')\n",
    "    view = ut.get_value(parameters, 'drone.camera.view')\n",
    "    sampling = ut.get_value(parameters, 'drone.camera.sampling')\n",
    "    \n",
    "    # TEMPORARY\n",
    "    if view >= 100:\n",
    "        continue\n",
    "        \n",
    "    # hardcoded number/distance of captures by file name\n",
    "    N, M = ut.sample_data(parameters)\n",
    "    n = int(file_name.split('-')[-1][1:])\n",
    "    m = M[n]\n",
    "    \n",
    "    # hardcoded perspective/orthographic camera by file name\n",
    "    c = 'O' if 'orthographic' in file_directory else 'P'\n",
    "    \n",
    "    # simulation name, group and ground image\n",
    "    simulation = os.path.basename(file_directory)\n",
    "    subgroup = os.path.basename(os.path.dirname(file_directory))\n",
    "    group = os.path.basename(os.path.dirname(os.path.dirname(file_directory)))\n",
    "    name = f'{preset}-F{size:04}-N{n:03}-H{height}-V{view}-S{sampling:.1f}-{c}'\n",
    "    image = gb.glob(os.path.join(file_directory, f'ground-*-N{n:03d}.png'))[0]\n",
    "    \n",
    "    # load alphas, ground and statistics\n",
    "    data[simulation] = np.load(path_data, allow_pickle=True)   \n",
    "    # alphas = data[simulation]['alphas']\n",
    "    # ground = data[simulation]['ground']\n",
    "    statistics = data[simulation]['statistics'].item()\n",
    "    \n",
    "    # statistics data\n",
    "    trees = statistics['trees_per_image']\n",
    "    visibility = statistics['ground_visibility']\n",
    "    density = 1.0 - visibility\n",
    "    \n",
    "    # TODO check scanned = np.count_nonzero(ground[:, :, 0]) vs scanned = np.sum(ground[:, :, 0])\n",
    "    \n",
    "    # append simulation data\n",
    "    df = df.append(pd.json_normalize({\n",
    "        'name': name,\n",
    "        'group': group,\n",
    "        'subgroup': subgroup,\n",
    "        'simulation': simulation,\n",
    "        'visibility': visibility,\n",
    "        'density': density,\n",
    "        'trees': trees,\n",
    "        'image': image,\n",
    "        'C': c,\n",
    "        'N': n,\n",
    "        'M': m,\n",
    "        **parameters\n",
    "    }), ignore_index=True)"
   ]
  },
  {
   "cell_type": "markdown",
   "id": "beautiful-flavor",
   "metadata": {},
   "source": [
    "## Preview"
   ]
  },
  {
   "cell_type": "code",
   "execution_count": null,
   "id": "difficult-location",
   "metadata": {
    "tags": []
   },
   "outputs": [],
   "source": [
    "# sort and preview data\n",
    "df = df.sort_values(['group', 'subgroup', 'drone.camera.view'], ascending=True)\n",
    "df = df.reset_index(drop=True)\n",
    "df = df.fillna(0.0)\n",
    "df"
   ]
  },
  {
   "cell_type": "code",
   "execution_count": null,
   "id": "described-spare",
   "metadata": {
    "tags": []
   },
   "outputs": [],
   "source": [
    "# extract unique subgroups\n",
    "subgroups = sorted(df['subgroup'].unique(), key=lambda x: x[10:])\n",
    "subgroups"
   ]
  },
  {
   "cell_type": "code",
   "execution_count": null,
   "id": "unsigned-appearance",
   "metadata": {
    "jupyter": {
     "source_hidden": true
    },
    "tags": []
   },
   "outputs": [],
   "source": [
    "%%script false --no-raise-error #####################\n",
    "################## DISABLE CELL #####################\n",
    "\n",
    "# sort\n",
    "df = df.sort_values(['preset', 'drone.camera.view', 'N'], ascending=True)\n",
    "\n",
    "# mask\n",
    "mask = (df['N'] >= np.floor(df['drone.coverage'])) & (df['N'] <= np.ceil(df['drone.coverage'])) & (df['C'] == 'P')\n",
    "\n",
    "# density increasement factor by resolution decreasement (higher FOV)\n",
    "df_resolution = df[mask][['preset', 'drone.camera.view', 'density']].copy()\n",
    "for preset, group in df_resolution.groupby('preset')[['density']].min().iterrows():\n",
    "    for index, row in df_resolution[df_resolution['preset'] == preset].iterrows():\n",
    "        df_resolution.loc[index, 'denseness'] = group['density']\n",
    "        df_resolution.loc[index, 'delta'] = row['density'] - group['density']\n",
    "\n",
    "# append resolution density corrected rows\n",
    "df_copy = df.copy()\n",
    "for index, row in df_resolution.iterrows():\n",
    "    mask = (df_copy['preset'] == row['preset']) & (df_copy['drone.camera.view'] == row['drone.camera.view'])\n",
    "    df_copy.loc[mask, 'density'] -= row['delta']\n",
    "    df_copy.loc[mask, 'visibility'] += row['delta']\n",
    "    df_copy.loc[mask, 'denseness'] = row['denseness']\n",
    "df_copy['preset'] += '-resolution'\n",
    "\n",
    "# merge datasets\n",
    "df = df_copy.append(df, ignore_index=True)\n",
    "\n",
    "df.filter(regex=r'^(?:(?!data).)*$')"
   ]
  },
  {
   "cell_type": "markdown",
   "id": "resident-photographer",
   "metadata": {},
   "source": [
    "# Plots"
   ]
  },
  {
   "cell_type": "markdown",
   "id": "bacterial-richards",
   "metadata": {},
   "source": [
    "## Models"
   ]
  },
  {
   "cell_type": "code",
   "execution_count": null,
   "id": "green-budget",
   "metadata": {
    "jupyter": {
     "source_hidden": true
    },
    "tags": []
   },
   "outputs": [],
   "source": [
    "def D_tilde(D, lo):\n",
    "    \"\"\"\n",
    "    Density model\n",
    "    \n",
    "    :param D: density per slice\n",
    "    :param lo: height/occluder ratio\n",
    "    \n",
    "    :return: density\n",
    "    \"\"\"\n",
    "    return 1 - (1 - D)**lo\n",
    "\n",
    "def D_tilde_alpha_slice(D, lo, a):\n",
    "    \"\"\"\n",
    "    Density model considering obligue angle\n",
    "    \n",
    "    :param D: density per slice\n",
    "    :param lo: height/occluder ratio\n",
    "    :param a: obligue angle\n",
    "    \n",
    "    :return: density\n",
    "    \"\"\"\n",
    "    return 1 - (1 - D_tilde(D, lo))**(lo * 1 / np.cos(np.deg2rad(a)))\n",
    "\n",
    "def D_tilde_alpha(D, a):\n",
    "    \"\"\"\n",
    "    Density model considering obligue angle\n",
    "    \n",
    "    :param D: density per image\n",
    "    :param a: obligue angle\n",
    "    \n",
    "    :return: density\n",
    "    \"\"\"\n",
    "    return 1 - (1 - D)**(1 / np.cos(np.deg2rad(a)))\n",
    "\n",
    "def D_atmos(D, h, H):\n",
    "    \"\"\"\n",
    "    TODO\n",
    "    \"\"\"\n",
    "    return D * np.exp(-h / H)"
   ]
  },
  {
   "cell_type": "code",
   "execution_count": null,
   "id": "liberal-istanbul",
   "metadata": {
    "jupyter": {
     "source_hidden": true
    },
    "tags": []
   },
   "outputs": [],
   "source": [
    "def V1(D, N, d=1):\n",
    "    \"\"\"\n",
    "    TODO\n",
    "    \"\"\"\n",
    "    S = 0\n",
    "    k = np.floor(N).astype(np.int16)\n",
    "    for i in range(1, k + 1):\n",
    "        S += (np.sqrt(N) - i) * np.maximum(0, (1 - i * d))\n",
    "    return 1 - D**2 - D * (1 - D) / N**2 * (N + 2 * S)\n",
    "\n",
    "def V2(D, N, d=1):\n",
    "    \"\"\"\n",
    "    TODO\n",
    "    \"\"\"\n",
    "    S = 0\n",
    "    k = np.floor(np.sqrt(N) - 1).astype(np.int16)\n",
    "    for i in range(1, k + 1):\n",
    "        for j in range(0, k + 1):\n",
    "            S += (np.sqrt(N) - i) * (np.sqrt(N) - j) * np.maximum(0, (1 - i * d)) * np.maximum(0, (1 - j * d))\n",
    "    return 1 - D**2 - D * (1 - D) / N**2 * (N + 4 * S)\n",
    "\n",
    "def V(D, N, d=1, dim=2):\n",
    "    \"\"\"\n",
    "    TODO\n",
    "    \"\"\"\n",
    "    return V1(D, N, d) if dim == 1 else V2(D, N, d)\n",
    "\n",
    "def V_opt(D, N):\n",
    "    \"\"\"\n",
    "    TODO\n",
    "    \"\"\"\n",
    "    return 1 - D**2 - D * (1 - D) / N\n",
    "\n",
    "def V_hat(N):\n",
    "    \"\"\"\n",
    "    TODO\n",
    "    \"\"\"\n",
    "    return 1 - 1 / N\n",
    "\n",
    "V = np.vectorize(V)"
   ]
  },
  {
   "cell_type": "markdown",
   "id": "excess-detective",
   "metadata": {},
   "source": [
    "## Visibility"
   ]
  },
  {
   "cell_type": "code",
   "execution_count": null,
   "id": "defined-rhythm",
   "metadata": {
    "jupyter": {
     "source_hidden": true
    },
    "tags": []
   },
   "outputs": [],
   "source": [
    "def plot_visibility_hat_model(N, ax):\n",
    "    _N = np.arange(N[0], N[1] + 1)\n",
    "    V_V_hat_vs_N = np.vstack([_N, V_hat(_N)]).T\n",
    "    \n",
    "    # plot\n",
    "    columns = [r'number of images $N$'] + [r'visibility $\\hat{V}$']\n",
    "    df = pd.DataFrame(V_V_hat_vs_N, columns=columns).set_index(r'number of images $N$')\n",
    "    df.plot(kind='line', linestyle='solid', color='red', ax=ax)"
   ]
  },
  {
   "cell_type": "code",
   "execution_count": null,
   "id": "patient-ranch",
   "metadata": {
    "jupyter": {
     "source_hidden": true
    },
    "tags": []
   },
   "outputs": [],
   "source": [
    "def plot_visibility_model(D, N, FOV, d, h, H, title, color, ax):    \n",
    "    _N = np.arange(N[0], N[1] + 1)\n",
    "    _D = np.array([D_tilde_alpha(D, FOV / 2)] * (N[1] - N[0] + 1))\n",
    "    # _D = np.array([D_atmos(D, h, H)] * (N[1] - N[0] + 1))\n",
    "    # V_V_vs_N = np.vstack([_N, V(_D, _N, d)]).T\n",
    "    V_V_vs_N = np.vstack([_N, V_opt(_D, _N)]).T\n",
    "    \n",
    "    # plot\n",
    "    columns = [r'number of images $N$'] + [title]\n",
    "    df = pd.DataFrame(V_V_vs_N, columns=columns).set_index(r'number of images $N$')\n",
    "    df.plot(kind='line', linestyle='solid', color=color, ax=ax)"
   ]
  },
  {
   "cell_type": "code",
   "execution_count": 43,
   "id": "undefined-inventory",
   "metadata": {
    "tags": []
   },
   "outputs": [],
   "source": [
    "def plot_visibilities(df, mask, group, title, label, **kwargs):\n",
    "    \n",
    "    # group dataframe\n",
    "    group_name_0, group_name_1 = group\n",
    "    grouped_0 = df[mask].groupby(group_name_0, sort=False)\n",
    "    \n",
    "    # aggregate data\n",
    "    for i, (name_0, group_0) in enumerate(grouped_0):\n",
    "        \n",
    "        # initialize subplots\n",
    "        fig, ax = plt.subplots(figsize=(10, 6))\n",
    "        ax.spines['top'].set_visible(False)\n",
    "        ax.spines['right'].set_visible(False)\n",
    "        \n",
    "        # initialize colors\n",
    "        grouped_1 = group_0.groupby(group_name_1, sort=False)\n",
    "        colors = ut.colors(cmap='tab10', size=len(grouped_1))\n",
    "        \n",
    "        # plot visibility normalized\n",
    "        # plot_visibility_hat_model(N=kwargs['N'], ax=ax)\n",
    "        \n",
    "        # plot visibilities\n",
    "        for j, (name_1, group_1) in enumerate(grouped_1):\n",
    "            \n",
    "            N = group_1['N'].iloc[j]\n",
    "            view = group_1['drone.camera.view'].iloc[j]\n",
    "            coverage = group_1['drone.coverage'].iloc[j]\n",
    "            color = colors[j]\n",
    "            \n",
    "            # 0.6 meter sampling point\n",
    "            sampling_0_6m = group_1[(group_1['M'] == 0.6)]\n",
    "            # ax.scatter(sampling_0_6m['N'], sampling_0_6m['visibility'], marker='x', color=color)\n",
    "            \n",
    "            # 1.0 meter sampling point\n",
    "            sampling_1_0m = group_1[(group_1['M'] == 1.0)]\n",
    "            ax.scatter(sampling_1_0m['N'], sampling_1_0m['visibility'], marker='.', color=color)\n",
    "            \n",
    "            # 1.6 meter sampling point\n",
    "            sampling_1_6m = group_1[(group_1['M'] == 1.6)]\n",
    "            # ax.scatter(sampling_1_6m['N'], sampling_1_6m['visibility'], marker='o', color=color)\n",
    "             \n",
    "            # simulation visibilities\n",
    "            group_1.plot(kind='line', x='N', y='visibility', linestyle='solid', label=label % name_1, color=color, ax=ax)\n",
    "            \n",
    "            # model visibilities\n",
    "            #D = 1 - group_1['visibility'][group_1['N'] == 1].item() # using N=1 for current FoV (perspective projection)\n",
    "            #D = 1 - group_0['visibility'][group_0['N'] == 1].mean() # using N=1 mean over all FoV (perspective projection)\n",
    "            #D = 1 - group_1['denseness'][group_1['N'] == 1].item() # real density obtained by ortographic projection\n",
    "            #plot_visibility_model(D=D, N=kwargs['N'], FOV=view, d=1, h=0, H=0, title=label % name_1, color=color, ax=ax)\n",
    "            \n",
    "            # plot title\n",
    "            ax.set_title(title % name_0)\n",
    "        \n",
    "        # set axis\n",
    "        ax.set_xlim(np.add(kwargs['N'], [0, 20]))\n",
    "        ax.set_ylim([0, 1.1])\n",
    "        \n",
    "        # set labels\n",
    "        ax.set_xlabel(r'number of images $N$')\n",
    "        ax.set_ylabel(r'visibility $\\dot{V}$')\n",
    "        \n",
    "        # set legend\n",
    "        #ax.legend(loc='lower right')\n",
    "        ax.legend()"
   ]
  },
  {
   "cell_type": "markdown",
   "id": "completed-shaft",
   "metadata": {
    "tags": []
   },
   "source": [
    "### Views"
   ]
  },
  {
   "cell_type": "code",
   "execution_count": 44,
   "id": "requested-genetics",
   "metadata": {
    "tags": []
   },
   "outputs": [
    {
     "data": {
      "application/vnd.jupyter.widget-view+json": {
       "model_id": "f7eba7fcd54040388e3cf60bef1ed062",
       "version_major": 2,
       "version_minor": 0
      },
      "text/plain": [
       "interactive(children=(SelectMultiple(description='G', options=('forest-21', 'forest-22', 'forest-23', 'forest-…"
      ]
     },
     "metadata": {},
     "output_type": "display_data"
    }
   ],
   "source": [
    "# sort\n",
    "df = df.sort_values(['name'], ascending=True)\n",
    "\n",
    "# group value\n",
    "value = [\n",
    "    'forest-21-sampling-0.1', 'forest-22-sampling-0.1', 'forest-23-sampling-0.1',\n",
    "    'forest-21-cone-sampling-0.1', 'forest-22-cone-sampling-0.1', 'forest-23-cone-sampling-0.1'\n",
    "]\n",
    "value = []\n",
    "\n",
    "@pyw.interact\n",
    "def plot(G=pyw.SelectMultiple(value=value, options=subgroups, continuous_update=False),\n",
    "         N=pyw.IntRangeSlider(value=(1, 200), min=1, max=500, continuous_update=False)):\n",
    "    \n",
    "    # mask\n",
    "    mask = df['subgroup'].isin(G)\n",
    "    \n",
    "    # group\n",
    "    df['plotgroup.0'] = df['subgroup']\n",
    "    df['plotgroup.1'] = df['drone.camera.view'].astype('str') #+ '° (' + np.round(df['drone.coverage'], 1).astype('str') + 'm coverage)'\n",
    "    \n",
    "    # plot\n",
    "    plot_visibilities(df, mask, ['plotgroup.0', 'plotgroup.1'], '%s', 'field of view %s', N=N)"
   ]
  },
  {
   "cell_type": "markdown",
   "id": "vietnamese-vegetation",
   "metadata": {},
   "source": [
    "### Forests"
   ]
  },
  {
   "cell_type": "code",
   "execution_count": 45,
   "id": "positive-indian",
   "metadata": {
    "tags": []
   },
   "outputs": [
    {
     "data": {
      "application/vnd.jupyter.widget-view+json": {
       "model_id": "0fada1bac62740118d8add9a35950779",
       "version_major": 2,
       "version_minor": 0
      },
      "text/plain": [
       "interactive(children=(SelectMultiple(description='G', options=('forest-21', 'forest-22', 'forest-23', 'forest-…"
      ]
     },
     "metadata": {},
     "output_type": "display_data"
    }
   ],
   "source": [
    "# sort\n",
    "df = df.sort_values(['name'], ascending=True)\n",
    "\n",
    "# group value\n",
    "value = [\n",
    "    'forest-21-sampling-0.1', 'forest-22-sampling-0.1', 'forest-23-sampling-0.1',\n",
    "    'forest-21-cone-sampling-0.1', 'forest-22-cone-sampling-0.1', 'forest-23-cone-sampling-0.1'\n",
    "]\n",
    "value = []\n",
    "\n",
    "@pyw.interact\n",
    "def plot(G=pyw.SelectMultiple(value=value, options=subgroups, continuous_update=False),\n",
    "         N=pyw.IntRangeSlider(value=(1, 80), min=1, max=400, continuous_update=False)):\n",
    "    \n",
    "    # mask\n",
    "    mask = df['subgroup'].isin(G)\n",
    "    \n",
    "    # group\n",
    "    df['plotgroup.0'] = df['drone.camera.view'].astype('str') + '° (' + np.round(df['drone.coverage'], 1).astype('str') + 'm coverage)'\n",
    "    df['plotgroup.1'] = df['subgroup']\n",
    "    \n",
    "    # plot\n",
    "    plot_visibilities(df, mask, ['plotgroup.0', 'plotgroup.1'], 'field of view %s', '%s', N=N)"
   ]
  },
  {
   "cell_type": "markdown",
   "id": "imported-nirvana",
   "metadata": {},
   "source": [
    "### Heights"
   ]
  },
  {
   "cell_type": "code",
   "execution_count": null,
   "id": "failing-tumor",
   "metadata": {
    "jupyter": {
     "source_hidden": true
    },
    "tags": []
   },
   "outputs": [],
   "source": [
    "%%script false --no-raise-error #####################\n",
    "################## DISABLE CELL #####################\n",
    "\n",
    "# sort\n",
    "df = df.sort_values(['name'], ascending=True)\n",
    "\n",
    "# group value\n",
    "value = [\n",
    "    'forest-21-height-30', 'forest-21-height-40', 'forest-21-height-50', 'forest-21-height-60',\n",
    "    'forest-22-height-30', 'forest-22-height-40', 'forest-22-height-50', 'forest-22-height-60',\n",
    "    'forest-23-height-30', 'forest-23-height-40', 'forest-23-height-50', 'forest-23-height-60'\n",
    "]\n",
    "\n",
    "@pyw.interact\n",
    "def plot(G=pyw.SelectMultiple(value=value, options=subgroups, continuous_update=False),\n",
    "         N=pyw.IntRangeSlider(value=(1, 100), min=1, max=400, continuous_update=False),\n",
    "         FOV=pyw.IntSlider(value=50, min=20, max=90, step=10, continuous_update=True)):\n",
    "    \n",
    "    # mask\n",
    "    mask = df['subgroup'].isin(G) & (df['drone.camera.view'] == FOV)\n",
    "    \n",
    "    # group\n",
    "    df['plotgroup.0'] = df['preset'] + '-view-' + df['drone.camera.view'].astype('str')\n",
    "    df['plotgroup.1'] = df['preset'] + '-height-' + df['drone.height'].astype('str') + 'm (' + np.round(df['drone.coverage'], 1).astype('str') + 'm coverage)'\n",
    "    \n",
    "    # plot\n",
    "    plot_visibilities(df, mask, ['plotgroup.0', 'plotgroup.1'], '%s°', '%s', N=N)"
   ]
  },
  {
   "cell_type": "markdown",
   "id": "brown-fundamental",
   "metadata": {},
   "source": [
    "## Density"
   ]
  },
  {
   "cell_type": "markdown",
   "id": "arctic-enforcement",
   "metadata": {
    "tags": []
   },
   "source": [
    "$\\tilde{D}_{\\rho}$ ... perspective density if $N=1$\n",
    "\n",
    "$\\tilde{D}_{o}$ ... ortographic density if $N=1$ (in the model $D = \\tilde{D}_{o}$)"
   ]
  },
  {
   "cell_type": "code",
   "execution_count": null,
   "id": "offensive-belarus",
   "metadata": {
    "jupyter": {
     "source_hidden": true
    },
    "tags": []
   },
   "outputs": [],
   "source": [
    "def plot_densities(df, mask, group, title):\n",
    "    \n",
    "    # group dataframe\n",
    "    group_name_0 = group\n",
    "    grouped_0 = df[mask].groupby(group_name_0)\n",
    "    \n",
    "    # initialize subplots\n",
    "    fig, ax = plt.subplots(figsize=(10, 6))\n",
    "    ax.spines['top'].set_visible(False)\n",
    "    ax.spines['right'].set_visible(False)\n",
    "    \n",
    "    # initialize colors\n",
    "    forests = len(df[mask]['preset'].unique())\n",
    "    #types = len(df[mask]['drone.height'].unique())\n",
    "    types = len(np.unique([x[10:] for x in df[mask]['subgroup'].unique()]))\n",
    "    colors = ut.colors(cmap='tab10', size=forests)\n",
    "    \n",
    "    # plot density\n",
    "    linestyles = ['solid', 'dashed', 'dashdot', 'dotted', '-', '--', '-.', ':', ' ', '']\n",
    "    for i, (name_0, group_0) in enumerate(grouped_0):\n",
    "        j, k = i % types, i // types\n",
    "        group_0.plot(kind='line', x='drone.camera.view', y='density', linestyle=linestyles[j], label=name_0, color=colors[k], ax=ax)\n",
    "    \n",
    "    # set axis\n",
    "    ax.set_xlim(np.add([20, 90], [0, 20]))\n",
    "    ax.set_ylim([0, 1.1])\n",
    "    \n",
    "    # set labels\n",
    "    ax.set_xlabel(r'field of view°')\n",
    "    ax.set_ylabel(r'density $\\dot{D}$')\n",
    "    \n",
    "    # sort legend\n",
    "    handles, labels = ax.get_legend_handles_labels()\n",
    "    labels, handles = zip(*sorted(zip(labels, handles), key=lambda x: x[0], reverse=True))\n",
    "    ax.legend(handles, labels, loc='upper right')\n",
    "    \n",
    "    # plot title\n",
    "    fig.suptitle(title)"
   ]
  },
  {
   "cell_type": "markdown",
   "id": "macro-spotlight",
   "metadata": {},
   "source": [
    "### Distances"
   ]
  },
  {
   "cell_type": "code",
   "execution_count": 47,
   "id": "related-legislature",
   "metadata": {
    "tags": []
   },
   "outputs": [
    {
     "data": {
      "application/vnd.jupyter.widget-view+json": {
       "model_id": "12742867801c458596fae992e1c195ac",
       "version_major": 2,
       "version_minor": 0
      },
      "text/plain": [
       "interactive(children=(SelectMultiple(description='G', options=('forest-21', 'forest-22', 'forest-23', 'forest-…"
      ]
     },
     "metadata": {},
     "output_type": "display_data"
    },
    {
     "data": {
      "image/png": "[encoded data removed]",
      "text/plain": [
       "<Figure size 1000x600 with 1 Axes>"
      ]
     },
     "metadata": {},
     "output_type": "display_data"
    }
   ],
   "source": [
    "# sort\n",
    "df = df.sort_values(['name'], ascending=True)\n",
    "\n",
    "# group value\n",
    "value = [\n",
    "    'forest-21-sampling-0.1', 'forest-22-sampling-0.1', 'forest-23-sampling-0.1',\n",
    "    'forest-21-cone-sampling-0.1', 'forest-22-cone-sampling-0.1', 'forest-23-cone-sampling-0.1'\n",
    "]\n",
    "value = []\n",
    "\n",
    "@pyw.interact\n",
    "def plot(G=pyw.SelectMultiple(value=value, options=subgroups, continuous_update=False),\n",
    "         M=pyw.FloatSlider(value=1.0, min=0.1, max=10.0, step=0.1, continuous_update=True)):\n",
    "    \n",
    "    # mask\n",
    "    mask = df['subgroup'].isin(G)\n",
    "    \n",
    "    ###################### <TODO> ######################\n",
    "    views = df[mask]['drone.camera.view'].unique()\n",
    "    steps = np.round(np.arange(0.0, 10.0, 0.1), 2)\n",
    "    views = {x:{y:[] for y in views} for x in df[mask]['subgroup'].unique()}\n",
    "    \n",
    "    for subgroup in df[mask]['subgroup'].unique():\n",
    "        for step in steps:\n",
    "            subgroup_mask = mask & (df['subgroup'] == subgroup) & (df['M'] == M + step)\n",
    "            for idx, view in df[subgroup_mask]['drone.camera.view'].items():\n",
    "                views[subgroup][view].append(idx)\n",
    "    idxs = np.array([[y[0] for y in x.values()] for x in views.values()]).flatten()\n",
    "    \n",
    "    #mask = df.index.isin(idxs)\n",
    "    mask = df['subgroup'].isin(G) & (df['M'] == M)\n",
    "    ###################### </TODO> ######################\n",
    "    \n",
    "    # group\n",
    "    df['plotgroup.0'] = df['subgroup']# + ' (M=' + df['M'].astype('str') + ')'\n",
    "    \n",
    "    # plot\n",
    "    plot_densities(df, mask, 'plotgroup.0', f'density by distance')"
   ]
  },
  {
   "cell_type": "markdown",
   "id": "mechanical-replica",
   "metadata": {},
   "source": [
    "### Captures"
   ]
  },
  {
   "cell_type": "code",
   "execution_count": 46,
   "id": "disabled-state",
   "metadata": {
    "tags": []
   },
   "outputs": [
    {
     "data": {
      "application/vnd.jupyter.widget-view+json": {
       "model_id": "58167029688b471d9f86927ffe87f819",
       "version_major": 2,
       "version_minor": 0
      },
      "text/plain": [
       "interactive(children=(SelectMultiple(description='G', options=('forest-21', 'forest-22', 'forest-23', 'forest-…"
      ]
     },
     "metadata": {},
     "output_type": "display_data"
    },
    {
     "data": {
      "image/png": "[encoded data removed]",
      "text/plain": [
       "<Figure size 1000x600 with 1 Axes>"
      ]
     },
     "metadata": {},
     "output_type": "display_data"
    }
   ],
   "source": [
    "# sort\n",
    "df = df.sort_values(['name'], ascending=True)\n",
    "\n",
    "# group value\n",
    "value = [\n",
    "    'forest-21-sampling-0.1', 'forest-22-sampling-0.1', 'forest-23-sampling-0.1',\n",
    "    'forest-21-cone-sampling-0.1', 'forest-22-cone-sampling-0.1', 'forest-23-cone-sampling-0.1'\n",
    "]\n",
    "value = []\n",
    "\n",
    "@pyw.interact\n",
    "def plot(G=pyw.SelectMultiple(value=value, options=subgroups, continuous_update=False),\n",
    "         N=pyw.IntSlider(value=1, min=1, max=20, step=1, continuous_update=True)):\n",
    "    \n",
    "    # mask\n",
    "    mask = df['subgroup'].isin(G)\n",
    "    \n",
    "    ###################### <TODO> ######################\n",
    "    views = df[mask]['drone.camera.view'].unique()\n",
    "    steps = np.arange(1, 10, 1)\n",
    "    views = {x:{y:[] for y in views} for x in df[mask]['subgroup'].unique()}\n",
    "    \n",
    "    for subgroup in df[mask]['subgroup'].unique():\n",
    "        for step in steps:\n",
    "            subgroup_mask = mask & (df['subgroup'] == subgroup) & (df['N'] == N + step)\n",
    "            for idx, view in df[subgroup_mask]['drone.camera.view'].items():\n",
    "                views[subgroup][view].append(idx)\n",
    "    idxs = np.array([[y[0] for y in x.values()] for x in views.values()]).flatten()\n",
    "    \n",
    "    #mask = df.index.isin(idxs)\n",
    "    mask = df['subgroup'].isin(G) & (df['N'] == N)\n",
    "    ###################### </TODO> ######################\n",
    "    \n",
    "    # group\n",
    "    df['plotgroup.0'] = df['subgroup']# + ' (N=' + df['N'].astype('str') + ')'\n",
    "    \n",
    "    # plot\n",
    "    plot_densities(df, mask, 'plotgroup.0', f'density by captures')"
   ]
  },
  {
   "cell_type": "markdown",
   "id": "periodic-separation",
   "metadata": {},
   "source": [
    "## Trees"
   ]
  },
  {
   "cell_type": "code",
   "execution_count": null,
   "id": "demonstrated-boring",
   "metadata": {
    "jupyter": {
     "source_hidden": true
    },
    "tags": []
   },
   "outputs": [],
   "source": [
    "def plot_trees(df, mask, group, title):\n",
    "    \n",
    "    # group dataframe\n",
    "    group_name_0 = group\n",
    "    grouped_0 = df[mask].groupby(group_name_0)\n",
    "    \n",
    "    # initialize subplots\n",
    "    fig, ax = plt.subplots(figsize=(10, 6))\n",
    "    ax.spines['top'].set_visible(False)\n",
    "    ax.spines['right'].set_visible(False)\n",
    "    \n",
    "    # initialize colors\n",
    "    forests = len(df[mask]['preset'].unique())\n",
    "    types = len(np.unique([x[10:] for x in df[mask]['subgroup'].unique()]))\n",
    "    colors = ut.colors(cmap='tab10', size=forests)\n",
    "    \n",
    "    # plot density\n",
    "    linestyles = ['solid', 'dashed', 'dashdot', 'dotted', '-', '--', '-.', ':', ' ', '']\n",
    "    for i, (name_0, group_0) in enumerate(grouped_0):\n",
    "        j, k = i % types, i // types\n",
    "        group_0.plot(kind='line', x='trees', y='visibility', linestyle=linestyles[j], label=name_0, color=colors[k], ax=ax)\n",
    "    \n",
    "    # set axis\n",
    "    #ax.set_xlim(np.add([20, 90], [0, 20]))\n",
    "    ax.set_ylim([0, 1.1])\n",
    "    \n",
    "    # set labels\n",
    "    ax.set_xlabel(r'trees per image')\n",
    "    ax.set_ylabel(r'visibility $\\dot{V}$')\n",
    "    \n",
    "    # set legend\n",
    "    ax.legend()\n",
    "    \n",
    "    # plot title\n",
    "    fig.suptitle(title)"
   ]
  },
  {
   "cell_type": "markdown",
   "id": "private-construction",
   "metadata": {},
   "source": [
    "### Forests"
   ]
  },
  {
   "cell_type": "code",
   "execution_count": null,
   "id": "desirable-colonial",
   "metadata": {
    "jupyter": {
     "source_hidden": true
    },
    "tags": []
   },
   "outputs": [],
   "source": [
    "# sort\n",
    "df = df.sort_values(['name'], ascending=True)\n",
    "\n",
    "# group value\n",
    "value = [\n",
    "    'forest-100'\n",
    "]\n",
    "value = []\n",
    "\n",
    "@pyw.interact\n",
    "def plot(G=pyw.SelectMultiple(value=value, options=subgroups, continuous_update=False),\n",
    "         N=pyw.IntSlider(value=1, min=1, max=20, step=1, continuous_update=True)):\n",
    "    \n",
    "    # mask\n",
    "    mask = df['subgroup'].isin(G) & (df['N'] == N)\n",
    "    \n",
    "    # group\n",
    "    df['plotgroup.0'] = df['subgroup']\n",
    "    \n",
    "    # plot\n",
    "    plot_trees(df, mask, 'plotgroup.0', f'number of trees')"
   ]
  },
  {
   "cell_type": "markdown",
   "id": "systematic-tyler",
   "metadata": {
    "tags": []
   },
   "source": [
    "## Grounds"
   ]
  },
  {
   "cell_type": "code",
   "execution_count": null,
   "id": "talented-character",
   "metadata": {
    "jupyter": {
     "source_hidden": true
    },
    "tags": []
   },
   "outputs": [],
   "source": [
    "def plot_grounds(df, data, mask, group, title, subtitle):\n",
    "    \n",
    "    # group dataframe\n",
    "    group_name_0, group_name_1 = group\n",
    "    grouped_0 = df[mask].groupby(group_name_0)\n",
    "    \n",
    "    # aggregate data\n",
    "    for i, (name_0, group_0) in enumerate(grouped_0):\n",
    "        \n",
    "        # subplots layout\n",
    "        n_cols = 3\n",
    "        n_rows = len(group_0)\n",
    "        \n",
    "        # initialize subplots\n",
    "        fig, axs = plt.subplots(n_rows, n_cols, figsize=(24, n_rows * 7))\n",
    "        fig.tight_layout(pad=5.0, h_pad=5.0, w_pad=2.0)\n",
    "        \n",
    "        for j, simulation in enumerate(group_0['simulation']):\n",
    "            name_1 = subtitle % group_0[group_name_1].iloc[j]\n",
    "            print(f'load {title % name_0}', end='')\n",
    "            \n",
    "            # load ground\n",
    "            ground = data[simulation]['ground']\n",
    "            visibility = group_0['visibility'].iloc[j]\n",
    "            \n",
    "            # plot ground images\n",
    "            ax = axs[j] if n_rows > 1 else axs\n",
    "            ut.plot_heatmap(ax[0], ground[:, :, 0], f'{name_1} - scanned pixels (count)')\n",
    "            ut.plot_heatmap(ax[1], ground[:, :, 1], f'{name_1} - visible pixels (count)')\n",
    "            ut.plot_heatmap(ax[2], ut.normalize_image(ground[:, :, 1] > 0), f'{name_1} - visibility ({visibility:.2f})')\n",
    "            print(f', {name_1}')\n",
    "        \n",
    "        # plot title\n",
    "        fig.suptitle(title % name_0, y=1.0)\n",
    "        \n",
    "    # clear print output\n",
    "    clear_output()"
   ]
  },
  {
   "cell_type": "code",
   "execution_count": null,
   "id": "alive-league",
   "metadata": {
    "jupyter": {
     "source_hidden": true
    },
    "tags": []
   },
   "outputs": [],
   "source": [
    "def plot_images(df, mask, path, name):\n",
    "    \n",
    "    # dataframe\n",
    "    masked = df[mask][[path, name]]\n",
    "    \n",
    "    # plot images\n",
    "    for i, row in masked.iterrows():\n",
    "        ut.plot_images([Image.imread(row[path])], [row[name]], rows=1, cols=1, figsize=(24, 7))"
   ]
  },
  {
   "cell_type": "markdown",
   "id": "compound-administration",
   "metadata": {
    "tags": []
   },
   "source": [
    "### Views"
   ]
  },
  {
   "cell_type": "code",
   "execution_count": null,
   "id": "humanitarian-gamma",
   "metadata": {
    "jupyter": {
     "source_hidden": true
    },
    "tags": []
   },
   "outputs": [],
   "source": [
    "%%script false --no-raise-error #####################\n",
    "################## DISABLE CELL #####################\n",
    "\n",
    "# sort\n",
    "df = df.sort_values(['preset', 'drone.height', 'drone.camera.view', 'N'], ascending=True)\n",
    "\n",
    "# group value\n",
    "value = [\n",
    "    'forest-21-sampling-0.1', 'forest-22-sampling-0.1', 'forest-23-sampling-0.1',\n",
    "    'forest-21-cone-sampling-0.1', 'forest-22-cone-sampling-0.1', 'forest-23-cone-sampling-0.1'\n",
    "]\n",
    "value = subgroups\n",
    "\n",
    "@pyw.interact\n",
    "def plot(G=pyw.SelectMultiple(value=value, options=subgroups, continuous_update=False),\n",
    "         M=pyw.FloatSlider(value=1.0, min=0.2, max=2.0, step=0.2, continuous_update=True)):\n",
    "    \n",
    "    # mask\n",
    "    mask = df['subgroup'].isin(G) & (df['M'] == M)\n",
    "    \n",
    "    # group\n",
    "    df['plotgroup.0'] = df['subgroup'].astype('str')\n",
    "    df['plotgroup.1'] = df['drone.camera.view'].astype('str') + '° (' + np.round(df['drone.coverage'], 1).astype('str') + 'm coverage)'\n",
    "    \n",
    "    # plot\n",
    "    plot_grounds(df, data, mask, ['plotgroup.0', 'plotgroup.1'], '%s', 'field of view %s')"
   ]
  },
  {
   "cell_type": "markdown",
   "id": "eleven-finish",
   "metadata": {
    "tags": []
   },
   "source": [
    "### Forests"
   ]
  },
  {
   "cell_type": "code",
   "execution_count": null,
   "id": "blind-journey",
   "metadata": {
    "jupyter": {
     "source_hidden": true
    },
    "tags": []
   },
   "outputs": [],
   "source": [
    "%%script false --no-raise-error #####################\n",
    "################## DISABLE CELL #####################\n",
    "\n",
    "# sort\n",
    "df = df.sort_values(['preset', 'drone.height', 'drone.camera.view', 'N'], ascending=True)\n",
    "\n",
    "# group value\n",
    "value = [\n",
    "    'forest-21-sampling-0.1', 'forest-22-sampling-0.1', 'forest-23-sampling-0.1',\n",
    "    'forest-21-cone-sampling-0.1', 'forest-22-cone-sampling-0.1', 'forest-23-cone-sampling-0.1'\n",
    "]\n",
    "value = subgroups\n",
    "\n",
    "@pyw.interact\n",
    "def plot(G=pyw.SelectMultiple(value=value, options=subgroups, continuous_update=False),\n",
    "         M=pyw.FloatSlider(value=1.0, min=0.2, max=2.0, step=0.2, continuous_update=True)):\n",
    "    \n",
    "    # mask\n",
    "    mask = df['subgroup'].isin(G) & (df['M'] == M)\n",
    "    \n",
    "    # group\n",
    "    df['plotgroup.0'] = df['drone.camera.view'].astype('str') + '° (' + np.round(df['drone.coverage'], 1).astype('str') + 'm coverage)'\n",
    "    df['plotgroup.1'] = df['subgroup']\n",
    "    \n",
    "    # plot\n",
    "    plot_grounds(df, data, mask, ['plotgroup.0', 'plotgroup.1'], 'field of view %s', '%s')"
   ]
  },
  {
   "cell_type": "markdown",
   "id": "congressional-passing",
   "metadata": {
    "tags": []
   },
   "source": [
    "### Images"
   ]
  },
  {
   "cell_type": "code",
   "execution_count": null,
   "id": "driven-validation",
   "metadata": {
    "tags": []
   },
   "outputs": [],
   "source": [
    "#%%script false --no-raise-error #####################\n",
    "################## DISABLE CELL #####################\n",
    "\n",
    "# sort\n",
    "df = df.sort_values(['preset', 'drone.height', 'drone.camera.view', 'N'], ascending=True)\n",
    "\n",
    "# group value\n",
    "value = [\n",
    "    'forest-21-sampling-0.1', 'forest-22-sampling-0.1', 'forest-23-sampling-0.1',\n",
    "    'forest-21-cone-sampling-0.1', 'forest-22-cone-sampling-0.1', 'forest-23-cone-sampling-0.1'\n",
    "]\n",
    "value = []\n",
    "\n",
    "@pyw.interact\n",
    "def plot(G=pyw.SelectMultiple(value=value, options=subgroups, continuous_update=False),\n",
    "         M=pyw.FloatSlider(value=1.0, min=0.2, max=2.0, step=0.2, continuous_update=True)):\n",
    "    \n",
    "    # mask\n",
    "    mask = df['subgroup'].isin(G) & (df['M'] == M)\n",
    "    \n",
    "    # plot\n",
    "    plot_images(df, mask, 'image', 'name')"
   ]
  },
  {
   "cell_type": "code",
   "execution_count": null,
   "id": "bronze-royalty",
   "metadata": {
    "tags": []
   },
   "outputs": [],
   "source": [
    "#%%script false --no-raise-error #####################\n",
    "################## DISABLE CELL #####################\n",
    "\n",
    "# sort\n",
    "df = df.sort_values(['preset', 'drone.height', 'drone.camera.view', 'N'], ascending=True)\n",
    "\n",
    "# group value\n",
    "value = [\n",
    "    'forest-21-sampling-0.1', 'forest-22-sampling-0.1', 'forest-23-sampling-0.1',\n",
    "    'forest-21-cone-sampling-0.1', 'forest-22-cone-sampling-0.1', 'forest-23-cone-sampling-0.1'\n",
    "]\n",
    "value = []\n",
    "\n",
    "@pyw.interact\n",
    "def plot(G=pyw.SelectMultiple(value=value, options=subgroups, continuous_update=False),\n",
    "         N=pyw.IntSlider(value=1, min=1, max=20, step=1, continuous_update=True)):\n",
    "    \n",
    "    # mask\n",
    "    mask = df['subgroup'].isin(G) & (df['N'] == N)\n",
    "    \n",
    "    # plot\n",
    "    plot_images(df, mask, 'image', 'name')"
   ]
  },
  {
   "cell_type": "markdown",
   "id": "arranged-hartford",
   "metadata": {
    "tags": []
   },
   "source": [
    "## Alphas"
   ]
  },
  {
   "cell_type": "code",
   "execution_count": null,
   "id": "planned-leeds",
   "metadata": {
    "jupyter": {
     "source_hidden": true
    },
    "tags": []
   },
   "outputs": [],
   "source": [
    "def plot_alphas(df, data, mask, group, title):\n",
    "    \n",
    "    # group dataframe\n",
    "    group_name_0, group_name_1 = group\n",
    "    grouped_0 = df[mask].groupby(group_name_0)\n",
    "    \n",
    "    # subplots layout\n",
    "    n_cols = 2\n",
    "    n_rows = np.ceil(len(grouped_0) / n_cols).astype(np.int16)\n",
    "    \n",
    "    # initialize subplots\n",
    "    fig, axs = plt.subplots(n_rows, n_cols, figsize=(20, n_rows * 6))\n",
    "    \n",
    "    # initialize colors\n",
    "    forests = len(df[mask]['preset'].unique())\n",
    "    heights = len(df[mask]['drone.height'].unique())\n",
    "    colors = ut.colors(cmap='tab20', size=heights)\n",
    "    \n",
    "    # aggregate data\n",
    "    for i, (name_0, group_0) in enumerate(grouped_0):\n",
    "        ax = axs[i // 2, i % 2]\n",
    "        \n",
    "        for j, simulation in enumerate(group_0['simulation']):\n",
    "            print(f'load {title % name_0}', end='')\n",
    "            \n",
    "            # load alphas\n",
    "            alphas = data[simulation]['alphas']\n",
    "            \n",
    "            # alphas dataframe\n",
    "            df_alphas = ut.aggregate_alphas(alphas, sample=None)\n",
    "            for column in group_0.columns:\n",
    "                df_alphas[column] = group_0[column].iloc[j]\n",
    "            \n",
    "            # filter corner alphas\n",
    "            df_alphas = df_alphas[df_alphas['alpha'] <= df_alphas['drone.camera.view'] / 2]\n",
    "            \n",
    "            # plot alphas\n",
    "            u, v = j // heights, j % heights\n",
    "            linestyles = ['solid', 'dashed', 'dashdot', 'dotted', '-', '--', '-.', ':', ' ', '']\n",
    "            for name_1, group_1 in df_alphas.groupby(group_name_1):\n",
    "                print(f', {name_1}')\n",
    "                group_1.plot(kind='line', x='alpha', y='ratio', linestyle=linestyles[u], label=name_1, color=colors[v], ax=ax)\n",
    "            \n",
    "            # set spines\n",
    "            ax.spines['top'].set_visible(False)\n",
    "            ax.spines['right'].set_visible(False)\n",
    "            \n",
    "            # set labels\n",
    "            ax.set_xlabel(r'$\\alpha$')\n",
    "            ax.set_ylabel(r'visible/scanned')\n",
    "            \n",
    "        # plot title and legend\n",
    "        ax.set_title(title % name_0)\n",
    "        ax.legend(loc='upper right')\n",
    "        \n",
    "    # clear print output\n",
    "    clear_output()"
   ]
  },
  {
   "cell_type": "markdown",
   "id": "hearing-departure",
   "metadata": {
    "tags": []
   },
   "source": [
    "### Views"
   ]
  },
  {
   "cell_type": "code",
   "execution_count": null,
   "id": "private-infection",
   "metadata": {
    "jupyter": {
     "source_hidden": true
    },
    "tags": []
   },
   "outputs": [],
   "source": [
    "%%script false --no-raise-error #####################\n",
    "################## DISABLE CELL #####################\n",
    "\n",
    "# sort\n",
    "df = df.sort_values(['preset', 'drone.camera.view', 'N'], ascending=True)\n",
    "\n",
    "# group value\n",
    "value = [\n",
    "    'forest-21-sampling-0.1', 'forest-22-sampling-0.1', 'forest-23-sampling-0.1',\n",
    "    'forest-21-cone-sampling-0.1', 'forest-22-cone-sampling-0.1', 'forest-23-cone-sampling-0.1'\n",
    "]\n",
    "value = subgroups\n",
    "\n",
    "@pyw.interact\n",
    "def plot(G=pyw.SelectMultiple(value=value, options=subgroups, continuous_update=False),\n",
    "         M=pyw.FloatSlider(value=1.0, min=0.2, max=2.0, step=0.2, continuous_update=True)):\n",
    "    \n",
    "    # mask\n",
    "    mask = df['subgroup'].isin(G) & (df['M'] == M)\n",
    "    \n",
    "    # group\n",
    "    df['plotgroup.0'] = df['subgroup'] + 'm'\n",
    "    df['plotgroup.1'] = df['drone.camera.view'].astype('str') + '° (' + np.round(df['drone.coverage'], 1).astype('str') + 'm coverage)'\n",
    "    \n",
    "    # plot\n",
    "    plot_alphas(df, data, mask, ['plotgroup.0', 'plotgroup.1'], 'field of view %s')"
   ]
  },
  {
   "cell_type": "markdown",
   "id": "republican-graham",
   "metadata": {
    "tags": []
   },
   "source": [
    "### Forests"
   ]
  },
  {
   "cell_type": "code",
   "execution_count": null,
   "id": "round-generic",
   "metadata": {
    "jupyter": {
     "source_hidden": true
    },
    "tags": []
   },
   "outputs": [],
   "source": [
    "%%script false --no-raise-error #####################\n",
    "################## DISABLE CELL #####################\n",
    "\n",
    "# sort\n",
    "df = df.sort_values(['preset', 'drone.camera.view', 'N'], ascending=True)\n",
    "\n",
    "# group value\n",
    "value = [\n",
    "    'forest-21-sampling-0.1', 'forest-22-sampling-0.1', 'forest-23-sampling-0.1',\n",
    "    'forest-21-cone-sampling-0.1', 'forest-22-cone-sampling-0.1', 'forest-23-cone-sampling-0.1'\n",
    "]\n",
    "value = subgroups\n",
    "\n",
    "@pyw.interact\n",
    "def plot(G=pyw.SelectMultiple(value=value, options=subgroups, continuous_update=False),\n",
    "         M=pyw.FloatSlider(value=1.0, min=0.2, max=2.0, step=0.2, continuous_update=True)):\n",
    "    \n",
    "    # mask\n",
    "    mask = df['subgroup'].isin(G) & (df['M'] == M)\n",
    "    \n",
    "    # group\n",
    "    df['plotgroup.0'] = df['drone.camera.view'].astype('str')\n",
    "    df['plotgroup.1'] = df['subgroup'] + 'm (' + np.round(df['drone.coverage'], 1).astype('str') + 'm coverage)'\n",
    "    \n",
    "    # plot\n",
    "    plot_alphas(df, data, mask, ['plotgroup.0', 'plotgroup.1'], 'field of view %s°')"
   ]
  },
  {
   "cell_type": "markdown",
   "id": "peaceful-blood",
   "metadata": {},
   "source": [
    " "
   ]
  }
 ],
 "metadata": {
  "hide_input": false,
  "kernelspec": {
   "display_name": "Python 3",
   "language": "python",
   "name": "python3"
  },
  "language_info": {
   "codemirror_mode": {
    "name": "ipython",
    "version": 3
   },
   "file_extension": ".py",
   "mimetype": "text/x-python",
   "name": "python",
   "nbconvert_exporter": "python",
   "pygments_lexer": "ipython3",
   "version": "3.8.6"
  },
  "toc-autonumbering": false,
  "toc-showmarkdowntxt": false,
  "toc-showtags": false
 },
 "nbformat": 4,
 "nbformat_minor": 5
}
