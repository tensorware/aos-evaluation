{
 "cells": [
  {
   "cell_type": "code",
   "execution_count": null,
   "id": "swiss-highlight",
   "metadata": {
    "ExecuteTime": {
     "end_time": "2021-04-22T21:14:50.436853Z",
     "start_time": "2021-04-22T21:14:49.777301Z"
    }
   },
   "outputs": [],
   "source": [
    "import os\n",
    "import json\n",
    "import importlib\n",
    "\n",
    "import glob as gb\n",
    "import utils as ut\n",
    "import numpy as np\n",
    "import pandas as pd\n",
    "import networkx as nx\n",
    "import seaborn as sns\n",
    "import ipywidgets as pyw\n",
    "import matplotlib.pyplot as plt\n",
    "\n",
    "from IPython.display import clear_output"
   ]
  },
  {
   "cell_type": "markdown",
   "id": "composed-rehabilitation",
   "metadata": {},
   "source": [
    "# Global"
   ]
  },
  {
   "cell_type": "code",
   "execution_count": null,
   "id": "central-least",
   "metadata": {},
   "outputs": [],
   "source": [
    "%matplotlib inline"
   ]
  },
  {
   "cell_type": "code",
   "execution_count": null,
   "id": "mounted-barbados",
   "metadata": {
    "ExecuteTime": {
     "end_time": "2021-04-22T21:14:50.442595Z",
     "start_time": "2021-04-22T21:14:50.438637Z"
    }
   },
   "outputs": [],
   "source": [
    "importlib.reload(ut)\n",
    "\n",
    "plt.rcParams['text.usetex'] = True\n",
    "plt.style.use(['dark_background'])\n",
    "plt.style.use(['default'])"
   ]
  },
  {
   "source": [
    "# Parameters"
   ],
   "cell_type": "markdown",
   "metadata": {}
  },
  {
   "cell_type": "code",
   "execution_count": null,
   "metadata": {},
   "outputs": [],
   "source": [
    "def add_nodes(G, v, f):\n",
    "    # variables\n",
    "    for i, label in enumerate(v.keys()):\n",
    "        idx = i + 1\n",
    "        v[label] = idx\n",
    "        G.add_node(idx, label=f'${label}$', kind='v')\n",
    "\n",
    "    # formulars\n",
    "    for i, label in enumerate(f.keys()):\n",
    "        idx = i + 1 + len(v)\n",
    "        f[label] = idx\n",
    "        G.add_node(idx, label=f'${label}$', kind='f')\n",
    "    \n",
    "    return G"
   ]
  },
  {
   "cell_type": "code",
   "execution_count": null,
   "metadata": {},
   "outputs": [],
   "source": [
    "def add_edges(G, v, f):\n",
    "    G.add_edge(v['v_{f}'], f['d_{\\int}'])\n",
    "    G.add_edge(v['t_{p}'], f['d_{\\int}'])\n",
    "\n",
    "    G.add_edge(v['h'], f['c_{\\int}'])\n",
    "    G.add_edge(v['FOV'], f['c_{\\int}'])\n",
    "\n",
    "    G.add_edge(f['c_{\\int}'], f['o_{\\int}'])\n",
    "    G.add_edge(f['d_{\\int}'], f['o_{\\int}'])\n",
    "\n",
    "    # G.add_edge(f['c_{\\int}'], v['N'])\n",
    "    # G.add_edge(v['d_{i}'], v['N'])\n",
    "\n",
    "    G.add_edge(v['N'], f['D_{\\int}'])\n",
    "    G.add_edge(f['D_{\\int}'], v['N'])\n",
    "\n",
    "    G.add_edge(f['c_{\\int}'], f['D_{\\int}'])\n",
    "    G.add_edge(v['d_{i}'], f['D_{\\int}'])\n",
    "\n",
    "    G.add_edge(f['c_{\\int}'], f['t_{\\int}'])\n",
    "    G.add_edge(v['v_{f}'], f['t_{\\int}'])\n",
    "\n",
    "    # G.add_edge(v['d_{i}'], f['t_{\\int}'])\n",
    "    # G.add_edge(f['D_{\\int}'], f['t_{\\int}'])\n",
    "    # G.add_edge(v['v_{f}'], f['t_{\\int}'])\n",
    "\n",
    "    G.add_edge(v['r_{i}'], f['r_{\\int}'])\n",
    "    G.add_edge(f['c_{\\int}'], f['r_{\\int}'])\n",
    "    # G.add_edge(v['FOV'], f['r_{\\int}'])\n",
    "    # G.add_edge(v['h'], f['r_{\\int}'])\n",
    "\n",
    "    return G"
   ]
  },
  {
   "cell_type": "code",
   "execution_count": null,
   "metadata": {},
   "outputs": [],
   "source": [
    "def draw_graph(G):\n",
    "    fig, ax = plt.subplots(figsize=(12, 5))\n",
    "\n",
    "    # positions and labels\n",
    "    positions = nx.nx_agraph.graphviz_layout(G, prog='neato')\n",
    "    labels = {node:G.nodes[node]['label'] for node in G.nodes()}\n",
    "\n",
    "    # draw graph\n",
    "    nx.draw_networkx(G, positions, font_color='#FFFFFF', node_color='#0C2344', font_size=16, node_size=1800, labels=labels, ax=ax)\n",
    "\n",
    "    return fig, ax"
   ]
  },
  {
   "cell_type": "code",
   "execution_count": null,
   "id": "finnish-plain",
   "metadata": {},
   "outputs": [],
   "source": [
    "# variables\n",
    "variables = {\n",
    "    'h': 0,\n",
    "    'N': 0,\n",
    "    'FOV': 0,\n",
    "    'v_{f}': 0,\n",
    "    't_{p}': 0,\n",
    "    'd_{i}': 0,\n",
    "    'r_{i}': 0\n",
    "}\n",
    "\n",
    "# formulars\n",
    "formulars = {\n",
    "    'c_{\\int}': 0,\n",
    "    'd_{\\int}': 0,\n",
    "    'o_{\\int}': 0,\n",
    "    't_{\\int}': 0,\n",
    "    'r_{\\int}': 0,\n",
    "    'D_{\\int}': 0\n",
    "}\n",
    "\n",
    "# add nodes and edges\n",
    "G = nx.MultiDiGraph()\n",
    "G = add_nodes(G, variables, formulars)\n",
    "G = add_edges(G, variables, formulars)\n",
    "\n",
    "# draw and export graph\n",
    "fig, ax = draw_graph(G)\n",
    "ut.export_plot(fig, os.path.join('results', 'parameters.png'), False)"
   ]
  },
  {
   "cell_type": "markdown",
   "id": "crazy-guard",
   "metadata": {},
   "source": [
    "# Density"
   ]
  },
  {
   "cell_type": "markdown",
   "id": "verbal-smooth",
   "metadata": {},
   "source": [
    " ### $\\tilde{D}$ ... integrated density"
   ]
  },
  {
   "cell_type": "markdown",
   "id": "empirical-challenge",
   "metadata": {},
   "source": [
    "$$\n",
    "\\begin{aligned}\n",
    "    \\tilde{D} &= 1 - \\left(1 - D\\right)^{\\frac{l}{o \\cdot \\cos\\left(\\alpha\\right)}} \\qquad \\qquad \n",
    "    \\begin{aligned}\n",
    "        &\\text{D} &&\\text{... uniform density per slice} \\\\\n",
    "        &\\text{l} &&\\text{... occluder volume height} \\\\\n",
    "        &\\text{o} &&\\text{... occluder cubic size} \\\\\n",
    "        &\\alpha &&\\text{... obligue angle}, \\frac{FOV}{2}\n",
    "    \\end{aligned}\n",
    "\\end{aligned}\n",
    "$$"
   ]
  },
  {
   "cell_type": "code",
   "execution_count": null,
   "id": "speaking-chick",
   "metadata": {
    "ExecuteTime": {
     "end_time": "2021-04-22T21:15:24.132288Z",
     "start_time": "2021-04-22T21:15:24.128445Z"
    }
   },
   "outputs": [],
   "source": [
    "def D_tilde(D, lo, a):\n",
    "    return 1 - (1 - D)**(lo * (1 / np.cos(np.deg2rad(a))))"
   ]
  },
  {
   "cell_type": "code",
   "execution_count": null,
   "id": "duplicate-referral",
   "metadata": {
    "ExecuteTime": {
     "end_time": "2021-04-22T21:15:25.537931Z",
     "start_time": "2021-04-22T21:15:24.134118Z"
    }
   },
   "outputs": [],
   "source": [
    "@pyw.interact\n",
    "def plot(lo=pyw.IntRangeSlider(value=(0, 300), min=0, max=300, continuous_update=True),\n",
    "         a=pyw.IntSlider(value=0, min=0, max=90, continuous_update=True)):\n",
    "    \n",
    "    D = np.array([0.10, 0.25, 0.50, 1.00, 2.50, 10.00]) / 100\n",
    "    D_tilde_lo_vs_D = [np.hstack([[x], D_tilde(D, x, a)]) for x in range(*lo)]\n",
    "    \n",
    "    # dataframe\n",
    "    columns = ['lo'] + [f'D = {x*100:.2f} \\%' for x in D]\n",
    "    df = pd.DataFrame(D_tilde_lo_vs_D, columns=columns).set_index('lo')\n",
    "    \n",
    "    # plot\n",
    "    ax = df.plot(figsize=(16, 8))\n",
    "    ax.set(ylabel=r'density $\\tilde{D}$')"
   ]
  },
  {
   "cell_type": "markdown",
   "id": "through-pastor",
   "metadata": {},
   "source": [
    " ### $\\tilde{D}_{\\alpha}$ ... integrated obligue angle density"
   ]
  },
  {
   "cell_type": "markdown",
   "id": "appropriate-dining",
   "metadata": {
    "ExecuteTime": {
     "end_time": "2021-04-22T14:16:28.527556Z",
     "start_time": "2021-04-22T14:16:28.519999Z"
    }
   },
   "source": [
    "$$\n",
    "\\begin{aligned}\n",
    "    \\tilde{D}_{\\alpha} &= 1 - \\left(1 - \\tilde{D}\\right)^{\\frac{1}{\\cos\\left(\\alpha\\right)}} \\qquad \\qquad \n",
    "    \\begin{aligned}\n",
    "        &\\tilde{D} &&\\text{... integrated density} \\\\\n",
    "        &\\alpha &&\\text{... obligue angle}, \\frac{FOV}{2}\n",
    "    \\end{aligned}\n",
    "\\end{aligned}\n",
    "$$"
   ]
  },
  {
   "cell_type": "code",
   "execution_count": null,
   "id": "separate-comedy",
   "metadata": {
    "ExecuteTime": {
     "end_time": "2021-04-22T21:15:25.545031Z",
     "start_time": "2021-04-22T21:15:25.539700Z"
    }
   },
   "outputs": [],
   "source": [
    "def D_tilde_alpha(D, lo, a):\n",
    "    return 1 - (1 - D_tilde(D, lo, 0))**(1 / np.cos(np.deg2rad(a)))"
   ]
  },
  {
   "cell_type": "code",
   "execution_count": null,
   "id": "general-spelling",
   "metadata": {
    "ExecuteTime": {
     "end_time": "2021-04-22T21:15:26.173059Z",
     "start_time": "2021-04-22T21:15:25.548021Z"
    }
   },
   "outputs": [],
   "source": [
    "@pyw.interact\n",
    "def plot(fov=pyw.IntRangeSlider(value=(0, 180), min=0, max=180, continuous_update=True),\n",
    "         lo=pyw.IntSlider(value=140, min=0, max=300, continuous_update=True)):\n",
    "    \n",
    "    D = np.array([0.10, 0.25, 0.50, 1.00, 2.50, 10.00]) / 100\n",
    "    D_tilde_fov_vs_D = [np.hstack([[x / 2], D_tilde_alpha(D, lo, x / 2)]) for x in range(*fov)]\n",
    "    \n",
    "    # dataframe\n",
    "    columns = [r'$\\alpha$ (deg)'] + [f'D = {x*100:.2f} \\%' for x in D]\n",
    "    df = pd.DataFrame(D_tilde_fov_vs_D, columns=columns).set_index(r'$\\alpha$ (deg)')\n",
    "    \n",
    "    # plot\n",
    "    ax = df.plot(figsize=(16, 8))\n",
    "    ax.set(ylabel=r'density $\\tilde{D}_{\\alpha}$')"
   ]
  },
  {
   "cell_type": "markdown",
   "id": "capable-plane",
   "metadata": {},
   "source": [
    "# Visibility"
   ]
  },
  {
   "cell_type": "markdown",
   "id": "former-emperor",
   "metadata": {},
   "source": [
    "### $\\hat{d}$ ... optimal disparity"
   ]
  },
  {
   "cell_type": "markdown",
   "id": "handled-flooring",
   "metadata": {},
   "source": [
    "$$\n",
    "\\begin{aligned}\n",
    "    \\hat{d} &= \\frac{d}{o} \\geq 1 \\qquad \\qquad \n",
    "    \\begin{aligned}\n",
    "        &\\text{d} &&\\text{... disparity shift between SAI samples} \\\\\n",
    "        &\\text{o} &&\\text{... occluder cubic size} \\\\\n",
    "    \\end{aligned}\n",
    "\\end{aligned}\n",
    "$$"
   ]
  },
  {
   "cell_type": "markdown",
   "id": "vocal-eating",
   "metadata": {},
   "source": [
    "### $V$ ... visibility assuming optimal disparity"
   ]
  },
  {
   "cell_type": "markdown",
   "id": "earned-price",
   "metadata": {},
   "source": [
    "$$\n",
    "\\begin{aligned}\n",
    "    V &= 1 - \\tilde{D}^{2} - \\frac{\\tilde{D}(1 - \\tilde{D})}{N} \\qquad \\qquad \n",
    "    \\begin{aligned}\n",
    "        &\\tilde{D} &&\\text{... integrated density} \\\\\n",
    "        &N &&\\text{... number of SAI samples}\n",
    "    \\end{aligned}\n",
    "\\end{aligned}\n",
    "$$"
   ]
  },
  {
   "cell_type": "code",
   "execution_count": null,
   "id": "extreme-magic",
   "metadata": {
    "ExecuteTime": {
     "end_time": "2021-04-22T21:15:26.179484Z",
     "start_time": "2021-04-22T21:15:26.175602Z"
    }
   },
   "outputs": [],
   "source": [
    "def V(D, N):\n",
    "    return 1 - D**2 - D * (1 - D) / N"
   ]
  },
  {
   "cell_type": "code",
   "execution_count": null,
   "id": "personal-creativity",
   "metadata": {
    "ExecuteTime": {
     "end_time": "2021-04-22T21:16:17.985338Z",
     "start_time": "2021-04-22T21:16:17.703579Z"
    }
   },
   "outputs": [],
   "source": [
    "@pyw.interact\n",
    "def plot():\n",
    "    \n",
    "    D = np.linspace(0, 1, 1000)\n",
    "    N = np.array([1, 2, 4, 9, 25, 100])\n",
    "    V_D_vs_N = [np.hstack([[x], V(x, N)]) for x in D]\n",
    "    \n",
    "    # dataframe\n",
    "    columns = [r'density $\\tilde{D}$'] + [f'N = {x}' for x in N]\n",
    "    df = pd.DataFrame(V_D_vs_N, columns=columns).set_index(r'density $\\tilde{D}$')\n",
    "    \n",
    "    # plot\n",
    "    ax = df.plot(figsize=(16, 8))\n",
    "    ax.set(ylabel=r'visibility $V$')"
   ]
  },
  {
   "cell_type": "markdown",
   "id": "miniature-telling",
   "metadata": {},
   "source": [
    "# Optimization"
   ]
  },
  {
   "cell_type": "markdown",
   "id": "fixed-bangkok",
   "metadata": {},
   "source": [
    "#### Coverage - Distance - Sampling\n",
    "$$\n",
    "\\begin{aligned}\n",
    "    I_c = 2 \\cdot h \\cdot \\tan\\left(\\frac{\\text{FOV}}{2}\\right), \\qquad \\qquad I_d = v \\cdot t_p , \\qquad \\qquad I_s = \\frac{I_c}{s_d} = 30 \\\\\n",
    "\\end{aligned}\n",
    "$$"
   ]
  },
  {
   "cell_type": "markdown",
   "id": "matched-matthew",
   "metadata": {},
   "source": [
    "#### Resolution - Overlap - Time\n",
    "$$\n",
    "\\begin{aligned}\n",
    "    I_r = \\frac{I_c}{r}, \\qquad \\qquad I_o = \\frac{I_c}{I_d}, \\qquad \\qquad I_t = \\frac{I_c}{v} = \\frac{s_d}{v} \\cdot I_s\n",
    "\\end{aligned}\n",
    "$$"
   ]
  },
  {
   "cell_type": "markdown",
   "id": "continent-austin",
   "metadata": {},
   "source": [
    "## Constraints - Dynamic\n",
    "$$\n",
    "\\begin{aligned}\n",
    "    C_d &= \\left\\{ v, h, \\text{FOV}, s_d \\right\\} \\\\\n",
    "\\end{aligned}\n",
    "$$"
   ]
  },
  {
   "cell_type": "markdown",
   "id": "leading-burning",
   "metadata": {},
   "source": [
    "## Constraints - Hardware\n",
    "$$\n",
    "\\begin{aligned}\n",
    "    C_h &= \\left\\{ t_p, r, f \\right\\} \\\\\n",
    "\\end{aligned}\n",
    "$$"
   ]
  },
  {
   "cell_type": "markdown",
   "id": "average-month",
   "metadata": {},
   "source": [
    "## Constraints - Quality\n",
    "$$\n",
    "\\begin{aligned}\n",
    "    C_q &= \\left\\{ I_r, I_o, I_t \\right\\} \\\\\n",
    "    &= \\left\\{ \\frac{I_c}{r}, \\frac{I_c}{I_d}, \\frac{I_c}{v} \\right\\} \\\\\n",
    "    &= \\left\\{ \\frac{I_c}{r}, \\frac{I_c}{v \\cdot t_p}, \\frac{I_c}{v} \\right\\} \\\\\n",
    "\\end{aligned}\n",
    "$$"
   ]
  },
  {
   "cell_type": "code",
   "execution_count": null,
   "id": "generous-presence",
   "metadata": {
    "ExecuteTime": {
     "end_time": "2021-04-22T21:15:26.906411Z",
     "start_time": "2021-04-22T21:15:26.532891Z"
    }
   },
   "outputs": [],
   "source": [
    "@pyw.interact\n",
    "def plot(fov=pyw.IntRangeSlider(value=(10, 160), min=10, max=160, continuous_update=True),\n",
    "         h=pyw.IntSlider(value=35, min=1, max=100, continuous_update=True),\n",
    "         v=pyw.IntSlider(value=4, min=1, max=20, continuous_update=True)):\n",
    "    \n",
    "    n = 10000\n",
    "    \n",
    "    FOV = np.linspace(*fov, n)\n",
    "    H = np.repeat(h, n)\n",
    "    V = np.repeat(v, n)\n",
    "    \n",
    "    s_d = 1\n",
    "    \n",
    "    # constraints - hardware\n",
    "    t_p = 0.5\n",
    "    r = 512\n",
    "    f = 10\n",
    "    \n",
    "    # coverage - distance - sampling\n",
    "    I_c = 2 * H * np.tan(np.deg2rad(FOV / 2))\n",
    "    I_d = V * t_p\n",
    "    I_s = I_c / s_d # = 30\n",
    "    \n",
    "    # resolution - overlap - time\n",
    "    I_r = I_c / r\n",
    "    I_o = I_c / I_d\n",
    "    I_t = I_c / V\n",
    "    \n",
    "    # constraints\n",
    "    C_h = (t_p, r, f)\n",
    "    C_d = (V, H, FOV, s_d)\n",
    "    C_b = (I_c, I_d, I_s)\n",
    "    C_q = (I_r, I_o, I_t)\n",
    "    \n",
    "    # dataframe\n",
    "    columns = [r'FOV'] + [r'Coverage ($I_c$)', r'Resolution ($I_r$)', r'Overlap ($I_o$)', r'Time ($I_t$)']\n",
    "    df = pd.DataFrame(np.vstack([[FOV], [I_c], C_q]).T, columns=columns).set_index(r'FOV')\n",
    "    \n",
    "    # plot\n",
    "    ax = df.plot(figsize=(16, 8))\n",
    "    ax.set(ylabel=r'quality $C_q$')"
   ]
  },
  {
   "cell_type": "markdown",
   "id": "equal-portrait",
   "metadata": {},
   "source": [
    " "
   ]
  }
 ],
 "metadata": {
  "hide_input": false,
  "kernelspec": {
   "name": "python3",
   "display_name": "Python 3.7.9 64-bit ('base': conda)"
  },
  "language_info": {
   "codemirror_mode": {
    "name": "ipython",
    "version": 3
   },
   "file_extension": ".py",
   "mimetype": "text/x-python",
   "name": "python",
   "nbconvert_exporter": "python",
   "pygments_lexer": "ipython3",
   "version": "3.7.9"
  },
  "interpreter": {
   "hash": "e972b19917409798af26439b092e322f894aa3a23a0153157fd2a63d41b1ba53"
  }
 },
 "nbformat": 4,
 "nbformat_minor": 5
}