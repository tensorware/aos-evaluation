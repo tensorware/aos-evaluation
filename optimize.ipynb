{
 "cells": [
  {
   "cell_type": "code",
   "execution_count": 1,
   "id": "appropriate-carrier",
   "metadata": {
    "ExecuteTime": {
     "end_time": "2021-04-22T21:14:50.436853Z",
     "start_time": "2021-04-22T21:14:49.777301Z"
    }
   },
   "outputs": [],
   "source": [
    "import os\n",
    "import json\n",
    "import importlib\n",
    "\n",
    "import glob as gb\n",
    "import utils as ut\n",
    "import numpy as np\n",
    "import pandas as pd\n",
    "import seaborn as sns\n",
    "import ipywidgets as pyw\n",
    "import matplotlib.pyplot as plt\n",
    "\n",
    "from IPython.display import clear_output"
   ]
  },
  {
   "cell_type": "markdown",
   "id": "collect-governor",
   "metadata": {},
   "source": [
    "# Global"
   ]
  },
  {
   "cell_type": "code",
   "execution_count": 2,
   "id": "affiliated-degree",
   "metadata": {},
   "outputs": [],
   "source": [
    "%matplotlib inline"
   ]
  },
  {
   "cell_type": "code",
   "execution_count": 3,
   "id": "expensive-mozambique",
   "metadata": {
    "ExecuteTime": {
     "end_time": "2021-04-22T21:14:50.442595Z",
     "start_time": "2021-04-22T21:14:50.438637Z"
    }
   },
   "outputs": [],
   "source": [
    "importlib.reload(ut)\n",
    "\n",
    "plt.rcParams['text.usetex'] = True\n",
    "plt.style.use(['dark_background'])"
   ]
  },
  {
   "cell_type": "markdown",
   "id": "insured-diabetes",
   "metadata": {},
   "source": [
    "# Density"
   ]
  },
  {
   "cell_type": "markdown",
   "id": "tropical-processing",
   "metadata": {},
   "source": [
    " ### $\\tilde{D}$ ... integrated density"
   ]
  },
  {
   "cell_type": "markdown",
   "id": "surrounded-progressive",
   "metadata": {},
   "source": [
    "$$\n",
    "\\begin{aligned}\n",
    "    \\tilde{D} &= 1 - \\left(1 - D\\right)^{\\frac{l}{o \\cdot \\cos\\left(\\alpha\\right)}} \\qquad \\qquad \n",
    "    \\begin{aligned}\n",
    "        &\\text{D} &&\\text{... uniform density per slice} \\\\\n",
    "        &\\text{l} &&\\text{... occluder volume height} \\\\\n",
    "        &\\text{o} &&\\text{... occluder cubic size} \\\\\n",
    "        &\\alpha &&\\text{... obligue angle}, \\frac{FOV}{2}\n",
    "    \\end{aligned}\n",
    "\\end{aligned}\n",
    "$$"
   ]
  },
  {
   "cell_type": "code",
   "execution_count": 4,
   "id": "viral-liquid",
   "metadata": {
    "ExecuteTime": {
     "end_time": "2021-04-22T21:15:24.132288Z",
     "start_time": "2021-04-22T21:15:24.128445Z"
    }
   },
   "outputs": [],
   "source": [
    "def D_tilde(D, lo, a):\n",
    "    return 1 - (1 - D)**(lo * (1 / np.cos(np.deg2rad(a))))"
   ]
  },
  {
   "cell_type": "code",
   "execution_count": 5,
   "id": "treated-carbon",
   "metadata": {
    "ExecuteTime": {
     "end_time": "2021-04-22T21:15:25.537931Z",
     "start_time": "2021-04-22T21:15:24.134118Z"
    }
   },
   "outputs": [
    {
     "data": {
      "application/vnd.jupyter.widget-view+json": {
       "model_id": "2abab099210247d8ab626f23f16ee4d0",
       "version_major": 2,
       "version_minor": 0
      },
      "text/plain": [
       "interactive(children=(IntRangeSlider(value=(0, 300), description='lo', max=300), IntSlider(value=0, descriptio…"
      ]
     },
     "metadata": {},
     "output_type": "display_data"
    }
   ],
   "source": [
    "@pyw.interact\n",
    "def plot(lo=pyw.IntRangeSlider(value=(0, 300), min=0, max=300, continuous_update=True),\n",
    "         a=pyw.IntSlider(value=0, min=0, max=90, continuous_update=True)):\n",
    "    \n",
    "    D = np.array([0.10, 0.25, 0.50, 1.00, 2.50, 10.00]) / 100\n",
    "    D_tilde_lo_vs_D = [np.hstack([[x], D_tilde(D, x, a)]) for x in range(*lo)]\n",
    "    \n",
    "    # dataframe\n",
    "    columns = ['lo'] + [f'D = {x*100:.2f} \\%' for x in D]\n",
    "    df = pd.DataFrame(D_tilde_lo_vs_D, columns=columns).set_index('lo')\n",
    "    \n",
    "    # plot\n",
    "    ax = df.plot(figsize=(16, 8))\n",
    "    ax.set(ylabel=r'density $\\tilde{D}$')"
   ]
  },
  {
   "cell_type": "markdown",
   "id": "ahead-hypothetical",
   "metadata": {},
   "source": [
    " ### $\\tilde{D}_{\\alpha}$ ... integrated obligue angle density"
   ]
  },
  {
   "cell_type": "markdown",
   "id": "packed-tender",
   "metadata": {
    "ExecuteTime": {
     "end_time": "2021-04-22T14:16:28.527556Z",
     "start_time": "2021-04-22T14:16:28.519999Z"
    }
   },
   "source": [
    "$$\n",
    "\\begin{aligned}\n",
    "    \\tilde{D}_{\\alpha} &= 1 - \\left(1 - \\tilde{D}\\right)^{\\frac{1}{\\cos\\left(\\alpha\\right)}} \\qquad \\qquad \n",
    "    \\begin{aligned}\n",
    "        &\\tilde{D} &&\\text{... integrated density} \\\\\n",
    "        &\\alpha &&\\text{... obligue angle}, \\frac{FOV}{2}\n",
    "    \\end{aligned}\n",
    "\\end{aligned}\n",
    "$$"
   ]
  },
  {
   "cell_type": "code",
   "execution_count": 6,
   "id": "quantitative-bernard",
   "metadata": {
    "ExecuteTime": {
     "end_time": "2021-04-22T21:15:25.545031Z",
     "start_time": "2021-04-22T21:15:25.539700Z"
    }
   },
   "outputs": [],
   "source": [
    "def D_tilde_alpha(D, lo, a):\n",
    "    return 1 - (1 - D_tilde(D, lo, 0))**(1 / np.cos(np.deg2rad(a)))"
   ]
  },
  {
   "cell_type": "code",
   "execution_count": 7,
   "id": "permanent-switzerland",
   "metadata": {
    "ExecuteTime": {
     "end_time": "2021-04-22T21:15:26.173059Z",
     "start_time": "2021-04-22T21:15:25.548021Z"
    }
   },
   "outputs": [
    {
     "data": {
      "application/vnd.jupyter.widget-view+json": {
       "model_id": "97a8bb109e40489789371c8e749d90d4",
       "version_major": 2,
       "version_minor": 0
      },
      "text/plain": [
       "interactive(children=(IntRangeSlider(value=(0, 180), description='fov', max=180), IntSlider(value=140, descrip…"
      ]
     },
     "metadata": {},
     "output_type": "display_data"
    }
   ],
   "source": [
    "@pyw.interact\n",
    "def plot(fov=pyw.IntRangeSlider(value=(0, 180), min=0, max=180, continuous_update=True),\n",
    "         lo=pyw.IntSlider(value=140, min=0, max=300, continuous_update=True)):\n",
    "    \n",
    "    D = np.array([0.10, 0.25, 0.50, 1.00, 2.50, 10.00]) / 100\n",
    "    D_tilde_fov_vs_D = [np.hstack([[x / 2], D_tilde_alpha(D, lo, x / 2)]) for x in range(*fov)]\n",
    "    \n",
    "    # dataframe\n",
    "    columns = [r'$\\alpha$ (deg)'] + [f'D = {x*100:.2f} \\%' for x in D]\n",
    "    df = pd.DataFrame(D_tilde_fov_vs_D, columns=columns).set_index(r'$\\alpha$ (deg)')\n",
    "    \n",
    "    # plot\n",
    "    ax = df.plot(figsize=(16, 8))\n",
    "    ax.set(ylabel=r'density $\\tilde{D}_{\\alpha}$')"
   ]
  },
  {
   "cell_type": "markdown",
   "id": "bright-colonial",
   "metadata": {},
   "source": [
    "# Visibility"
   ]
  },
  {
   "cell_type": "markdown",
   "id": "surprising-advocate",
   "metadata": {},
   "source": [
    "### $\\hat{d}$ ... optimal disparity"
   ]
  },
  {
   "cell_type": "markdown",
   "id": "successful-heating",
   "metadata": {},
   "source": [
    "$$\n",
    "\\begin{aligned}\n",
    "    \\hat{d} &= \\frac{d}{o} \\geq 1 \\qquad \\qquad \n",
    "    \\begin{aligned}\n",
    "        &\\text{d} &&\\text{... disparity shift between SAI samples} \\\\\n",
    "        &\\text{o} &&\\text{... occluder cubic size} \\\\\n",
    "    \\end{aligned}\n",
    "\\end{aligned}\n",
    "$$"
   ]
  },
  {
   "cell_type": "markdown",
   "id": "intense-staff",
   "metadata": {},
   "source": [
    "### $V$ ... visibility assuming optimal disparity"
   ]
  },
  {
   "cell_type": "markdown",
   "id": "grateful-instrumentation",
   "metadata": {},
   "source": [
    "$$\n",
    "\\begin{aligned}\n",
    "    V &= 1 - \\tilde{D}^{2} - \\frac{\\tilde{D}(1 - \\tilde{D})}{N} \\qquad \\qquad \n",
    "    \\begin{aligned}\n",
    "        &\\tilde{D} &&\\text{... integrated density} \\\\\n",
    "        &N &&\\text{... number of SAI samples}\n",
    "    \\end{aligned}\n",
    "\\end{aligned}\n",
    "$$"
   ]
  },
  {
   "cell_type": "code",
   "execution_count": 8,
   "id": "aboriginal-engineer",
   "metadata": {
    "ExecuteTime": {
     "end_time": "2021-04-22T21:15:26.179484Z",
     "start_time": "2021-04-22T21:15:26.175602Z"
    }
   },
   "outputs": [],
   "source": [
    "def V(D, N):\n",
    "    return 1 - D**2 - D * (1 - D) / N"
   ]
  },
  {
   "cell_type": "code",
   "execution_count": 9,
   "id": "worse-crystal",
   "metadata": {
    "ExecuteTime": {
     "end_time": "2021-04-22T21:16:17.985338Z",
     "start_time": "2021-04-22T21:16:17.703579Z"
    }
   },
   "outputs": [
    {
     "data": {
      "application/vnd.jupyter.widget-view+json": {
       "model_id": "b9087838d2c94c67a3a75f8c949cad3f",
       "version_major": 2,
       "version_minor": 0
      },
      "text/plain": [
       "interactive(children=(Output(),), _dom_classes=('widget-interact',))"
      ]
     },
     "metadata": {},
     "output_type": "display_data"
    }
   ],
   "source": [
    "@pyw.interact\n",
    "def plot():\n",
    "    \n",
    "    D = np.linspace(0, 1, 1000)\n",
    "    N = np.array([1, 2, 4, 9, 25, 100])\n",
    "    V_D_vs_N = [np.hstack([[x], V(x, N)]) for x in D]\n",
    "    \n",
    "    # dataframe\n",
    "    columns = [r'density $\\tilde{D}$'] + [f'N = {x}' for x in N]\n",
    "    df = pd.DataFrame(V_D_vs_N, columns=columns).set_index(r'density $\\tilde{D}$')\n",
    "    \n",
    "    # plot\n",
    "    ax = df.plot(figsize=(16, 8))\n",
    "    ax.set(ylabel=r'visibility $V$')"
   ]
  },
  {
   "cell_type": "markdown",
   "id": "comic-wisdom",
   "metadata": {},
   "source": [
    "# Optimization"
   ]
  },
  {
   "cell_type": "markdown",
   "id": "imposed-shuttle",
   "metadata": {},
   "source": [
    "#### Coverage - Distance - Sampling\n",
    "$$\n",
    "\\begin{aligned}\n",
    "    I_c = 2 \\cdot h \\cdot \\tan\\left(\\frac{\\text{FOV}}{2}\\right), \\qquad \\qquad I_d = v \\cdot t_p , \\qquad \\qquad I_s = \\frac{I_c}{s_d} = 30 \\\\\n",
    "\\end{aligned}\n",
    "$$"
   ]
  },
  {
   "cell_type": "markdown",
   "id": "sensitive-dylan",
   "metadata": {},
   "source": [
    "#### Resolution - Overlap - Time\n",
    "$$\n",
    "\\begin{aligned}\n",
    "    I_r = \\frac{I_c}{r}, \\qquad \\qquad I_o = \\frac{I_c}{I_d}, \\qquad \\qquad I_t = \\frac{I_c}{v} = \\frac{s_d}{v} \\cdot I_s\n",
    "\\end{aligned}\n",
    "$$"
   ]
  },
  {
   "cell_type": "markdown",
   "id": "peripheral-gathering",
   "metadata": {},
   "source": [
    "## Constraints - Dynamic\n",
    "$$\n",
    "\\begin{aligned}\n",
    "    C_d &= \\left\\{ v, h, \\text{FOV}, s_d \\right\\} \\\\\n",
    "\\end{aligned}\n",
    "$$"
   ]
  },
  {
   "cell_type": "markdown",
   "id": "downtown-investment",
   "metadata": {},
   "source": [
    "## Constraints - Hardware\n",
    "$$\n",
    "\\begin{aligned}\n",
    "    C_h &= \\left\\{ t_p, r, f \\right\\} \\\\\n",
    "\\end{aligned}\n",
    "$$"
   ]
  },
  {
   "cell_type": "markdown",
   "id": "cheap-vienna",
   "metadata": {},
   "source": [
    "## Constraints - Quality\n",
    "$$\n",
    "\\begin{aligned}\n",
    "    C_q &= \\left\\{ I_r, I_o, I_t \\right\\} \\\\\n",
    "    &= \\left\\{ \\frac{I_c}{r}, \\frac{I_c}{I_d}, \\frac{I_c}{v} \\right\\} \\\\\n",
    "    &= \\left\\{ \\frac{I_c}{r}, \\frac{I_c}{v \\cdot t_p}, \\frac{I_c}{v} \\right\\} \\\\\n",
    "\\end{aligned}\n",
    "$$"
   ]
  },
  {
   "cell_type": "code",
   "execution_count": 10,
   "id": "timely-rebecca",
   "metadata": {
    "ExecuteTime": {
     "end_time": "2021-04-22T21:15:26.906411Z",
     "start_time": "2021-04-22T21:15:26.532891Z"
    }
   },
   "outputs": [
    {
     "data": {
      "application/vnd.jupyter.widget-view+json": {
       "model_id": "2736fbf99b684644926cfeef6eb2d9a8",
       "version_major": 2,
       "version_minor": 0
      },
      "text/plain": [
       "interactive(children=(IntRangeSlider(value=(10, 160), description='fov', max=160, min=10), IntSlider(value=35,…"
      ]
     },
     "metadata": {},
     "output_type": "display_data"
    }
   ],
   "source": [
    "@pyw.interact\n",
    "def plot(fov=pyw.IntRangeSlider(value=(10, 160), min=10, max=160, continuous_update=True),\n",
    "         h=pyw.IntSlider(value=35, min=1, max=100, continuous_update=True),\n",
    "         v=pyw.IntSlider(value=4, min=1, max=20, continuous_update=True)):\n",
    "    \n",
    "    n = 10000\n",
    "    \n",
    "    FOV = np.linspace(*fov, n)\n",
    "    H = np.repeat(h, n)\n",
    "    V = np.repeat(v, n)\n",
    "    \n",
    "    s_d = 1\n",
    "    \n",
    "    # constraints - hardware\n",
    "    t_p = 0.5\n",
    "    r = 512\n",
    "    f = 10\n",
    "    \n",
    "    # coverage - distance - sampling\n",
    "    I_c = 2 * H * np.tan(np.deg2rad(FOV / 2))\n",
    "    I_d = V * t_p\n",
    "    I_s = I_c / s_d # = 30\n",
    "    \n",
    "    # resolution - overlap - time\n",
    "    I_r = I_c / r\n",
    "    I_o = I_c / I_d\n",
    "    I_t = I_c / V\n",
    "    \n",
    "    # constraints\n",
    "    C_h = (t_p, r, f)\n",
    "    C_d = (V, H, FOV, s_d)\n",
    "    C_b = (I_c, I_d, I_s)\n",
    "    C_q = (I_r, I_o, I_t)\n",
    "    \n",
    "    # dataframe\n",
    "    columns = [r'FOV'] + [r'Coverage ($I_c$)', r'Resolution ($I_r$)', r'Overlap ($I_o$)', r'Time ($I_t$)']\n",
    "    df = pd.DataFrame(np.vstack([[FOV], [I_c], C_q]).T, columns=columns).set_index(r'FOV')\n",
    "    \n",
    "    # plot\n",
    "    ax = df.plot(figsize=(16, 8))\n",
    "    ax.set(ylabel=r'quality $C_q$')"
   ]
  },
  {
   "cell_type": "markdown",
   "id": "median-holiday",
   "metadata": {},
   "source": [
    " "
   ]
  }
 ],
 "metadata": {
  "hide_input": false,
  "kernelspec": {
   "display_name": "Python 3",
   "language": "python",
   "name": "python3"
  },
  "language_info": {
   "codemirror_mode": {
    "name": "ipython",
    "version": 3
   },
   "file_extension": ".py",
   "mimetype": "text/x-python",
   "name": "python",
   "nbconvert_exporter": "python",
   "pygments_lexer": "ipython3",
   "version": "3.7.9"
  }
 },
 "nbformat": 4,
 "nbformat_minor": 5
}
