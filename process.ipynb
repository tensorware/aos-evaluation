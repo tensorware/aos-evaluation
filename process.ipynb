{
 "cells": [
  {
   "cell_type": "code",
   "execution_count": null,
   "id": "english-induction",
   "metadata": {
    "ExecuteTime": {
     "end_time": "2021-04-22T21:14:50.436853Z",
     "start_time": "2021-04-22T21:14:49.777301Z"
    }
   },
   "outputs": [],
   "source": [
    "import os\n",
    "import json\n",
    "import importlib\n",
    "\n",
    "import glob as gb\n",
    "import utils as ut\n",
    "import numpy as np\n",
    "import pandas as pd\n",
    "import seaborn as sns\n",
    "\n",
    "import ipywidgets as pyw\n",
    "import matplotlib.pyplot as plt"
   ]
  },
  {
   "cell_type": "markdown",
   "id": "mature-harrison",
   "metadata": {},
   "source": [
    "# Global"
   ]
  },
  {
   "cell_type": "code",
   "execution_count": null,
   "id": "periodic-mystery",
   "metadata": {},
   "outputs": [],
   "source": [
    "%matplotlib inline"
   ]
  },
  {
   "cell_type": "code",
   "execution_count": null,
   "id": "identical-direction",
   "metadata": {
    "ExecuteTime": {
     "end_time": "2021-04-22T21:14:50.442595Z",
     "start_time": "2021-04-22T21:14:50.438637Z"
    }
   },
   "outputs": [],
   "source": [
    "importlib.reload(ut)\n",
    "\n",
    "plt.rcParams['text.usetex'] = True\n",
    "plt.style.use(['dark_background'])"
   ]
  },
  {
   "cell_type": "markdown",
   "id": "underlying-layer",
   "metadata": {},
   "source": [
    "# Data"
   ]
  },
  {
   "cell_type": "code",
   "execution_count": null,
   "id": "promising-dream",
   "metadata": {},
   "outputs": [],
   "source": [
    "# load data\n",
    "data = ut.load_data(os.path.join('data', 'v6', 'forest-00', '*.zip'))"
   ]
  },
  {
   "cell_type": "code",
   "execution_count": null,
   "id": "apparent-breathing",
   "metadata": {},
   "outputs": [],
   "source": [
    "# simulation\n",
    "index = 0\n",
    "simulation = list(data.keys())[index]\n",
    "\n",
    "print('simulations:\\n', '\\n '.join([f'{i}: ' + (f'{x} [x]' if x == simulation else x) for i, x in enumerate(list(data.keys()))]))"
   ]
  },
  {
   "cell_type": "code",
   "execution_count": null,
   "id": "intelligent-martial",
   "metadata": {},
   "outputs": [],
   "source": [
    "# load images\n",
    "df = data[simulation]['images']\n",
    "df = df[df['type'] == 'monochrome']\n",
    "df = df.reset_index(drop=True)\n",
    "\n",
    "print('images:', df.shape[0])"
   ]
  },
  {
   "cell_type": "code",
   "execution_count": null,
   "id": "cellular-score",
   "metadata": {},
   "outputs": [],
   "source": [
    "# load parameters\n",
    "parameters = data[simulation]['parameters']\n",
    "parameters['images'] = df.shape[0]\n",
    "\n",
    "print('\\nparameters:', json.dumps(parameters, indent=4))"
   ]
  },
  {
   "cell_type": "markdown",
   "id": "charitable-peace",
   "metadata": {},
   "source": [
    "# Plots"
   ]
  },
  {
   "cell_type": "code",
   "execution_count": null,
   "id": "multiple-vinyl",
   "metadata": {
    "ExecuteTime": {
     "end_time": "2021-04-22T21:15:23.985974Z",
     "start_time": "2021-04-22T21:15:21.663593Z"
    }
   },
   "outputs": [],
   "source": [
    "fig, ax = plt.subplots(figsize=(16, 16))\n",
    "\n",
    "# plot stage image\n",
    "ut.plot_image(ax, data[simulation]['stage'], 'stage')\n",
    "\n",
    "# plot sample images\n",
    "ut.plot_images(df['data'], df['name'])"
   ]
  },
  {
   "cell_type": "code",
   "execution_count": null,
   "id": "standard-pilot",
   "metadata": {
    "ExecuteTime": {
     "end_time": "2021-04-22T21:15:24.120171Z",
     "start_time": "2021-04-22T21:15:23.987587Z"
    }
   },
   "outputs": [],
   "source": [
    "df_integrate = df[:18]\n",
    "\n",
    "# integrate images\n",
    "integrated = ut.integrate_image(df_integrate, parameters, N=30)\n",
    "\n",
    "# grayscale images\n",
    "grayscaled = np.array([ut.grayscale_image(x) for x in df_integrate['data']])"
   ]
  },
  {
   "cell_type": "code",
   "execution_count": null,
   "id": "hundred-illinois",
   "metadata": {},
   "outputs": [],
   "source": [
    "image_vs_integrated = np.hstack([grayscaled, integrated]).reshape(integrated.shape * np.array([2, 1, 1]))\n",
    "image_vs_integrated_labels = np.dstack([df_integrate['name'], df_integrate['name'] + '-integral']).flatten()\n",
    "\n",
    "# plot integrated images\n",
    "ut.plot_images(image_vs_integrated, image_vs_integrated_labels, rows=6, cols=6)"
   ]
  },
  {
   "cell_type": "code",
   "execution_count": null,
   "id": "robust-mozambique",
   "metadata": {},
   "outputs": [],
   "source": [
    "# integrate ground\n",
    "ground, alphas = ut.integrate_ground(df, parameters)"
   ]
  },
  {
   "cell_type": "code",
   "execution_count": null,
   "id": "pretty-basket",
   "metadata": {
    "tags": []
   },
   "outputs": [],
   "source": [
    "fig, axs = plt.subplots(1, 3, figsize=(24, 6))\n",
    "\n",
    "# plot ground images\n",
    "ut.plot_heatmap(axs[0], ground[:, :, 0], 'scanned pixels (count)')\n",
    "ut.plot_heatmap(axs[1], ground[:, :, 1], 'visible pixels (count)')\n",
    "ut.plot_heatmap(axs[2], ut.normalize_image(ground[:, :, 1] > 0), 'visible pixels (binary)')"
   ]
  },
  {
   "cell_type": "code",
   "execution_count": null,
   "id": "thrown-associate",
   "metadata": {},
   "outputs": [],
   "source": [
    "# ---------- DEBUG ----------\n",
    "visible_ground_idx = np.nonzero(ground[:, :, 1])\n",
    "\n",
    "visible_alphas_idx = np.nonzero(alphas[:, :, 1])\n",
    "visible_alphas_idx_x, visible_alphas_idx_y, visible_alphas_idx_a = visible_alphas_idx\n",
    "\n",
    "scanned_alphas = alphas[visible_alphas_idx_x, visible_alphas_idx_y, 0, visible_alphas_idx_a]\n",
    "visible_alphas = alphas[visible_alphas_idx_x, visible_alphas_idx_y, 1, visible_alphas_idx_a]\n",
    "\n",
    "# alphas data\n",
    "data_alphas = np.array([visible_alphas_idx_a, scanned_alphas, visible_alphas, visible_alphas / scanned_alphas]).T\n",
    "\n",
    "# alphas dataframe\n",
    "df_alphas = pd.DataFrame(data_alphas, columns=['alpha', 'scanned', 'visible', 'ratio'])\n",
    "df_alphas = df_alphas.apply(pd.to_numeric, downcast='integer')\n",
    "\n",
    "# aggregate alphas\n",
    "df_alphas_agg = df_alphas.groupby('alpha').sum()\n",
    "df_alphas_agg['result'] = df_alphas_agg['visible'] / df_alphas_agg['scanned']\n",
    "df_alphas_agg.plot(y=['result'])"
   ]
  },
  {
   "cell_type": "code",
   "execution_count": null,
   "id": "measured-salad",
   "metadata": {},
   "outputs": [],
   "source": [
    "fig, ax = plt.subplots(figsize=(12, 8))\n",
    "\n",
    "# alpha dataframe\n",
    "df_alpha = pd.DataFrame(alphas.T, columns=['visible_x', 'visible_y', 'camera_x', 'camera_y', 'alpha'])\n",
    "df_alpha = df_alpha.sort_values(['visible_x', 'visible_y'], ignore_index=True)\n",
    "df_alpha = df_alpha.sample(n=np.minimum(df_alpha.shape[0], 10**5), random_state=42)\n",
    "df_alpha = df_alpha.apply(pd.to_numeric, downcast='integer')\n",
    "\n",
    "# plot alpha distribution (sampled)\n",
    "ut.plot_histogram(ax, df_alpha, 'alpha', f'field of view {parameters[\"view\"]}°')"
   ]
  },
  {
   "cell_type": "code",
   "execution_count": null,
   "id": "protective-congress",
   "metadata": {},
   "outputs": [],
   "source": [
    "scanned = np.count_nonzero(ground[:, :, 0])\n",
    "captured = np.count_nonzero(ground[:, :, 1])\n",
    "density = 1 - captured / scanned\n",
    "mean = 1 - (ground[:, :, 1] > 0).mean()\n",
    "\n",
    "print('density:', density)\n",
    "print('mean:', mean)"
   ]
  },
  {
   "cell_type": "code",
   "execution_count": null,
   "id": "united-adoption",
   "metadata": {},
   "outputs": [],
   "source": []
  }
 ],
 "metadata": {
  "hide_input": false,
  "kernelspec": {
   "display_name": "Python 3",
   "language": "python",
   "name": "python3"
  },
  "language_info": {
   "codemirror_mode": {
    "name": "ipython",
    "version": 3
   },
   "file_extension": ".py",
   "mimetype": "text/x-python",
   "name": "python",
   "nbconvert_exporter": "python",
   "pygments_lexer": "ipython3",
   "version": "3.7.9"
  }
 },
 "nbformat": 4,
 "nbformat_minor": 5
}
