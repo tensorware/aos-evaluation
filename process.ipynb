{
 "cells": [
  {
   "cell_type": "code",
   "execution_count": null,
   "id": "recorded-treaty",
   "metadata": {
    "ExecuteTime": {
     "end_time": "2021-04-22T21:14:50.436853Z",
     "start_time": "2021-04-22T21:14:49.777301Z"
    }
   },
   "outputs": [],
   "source": [
    "import os\n",
    "import json\n",
    "import importlib\n",
    "\n",
    "import glob as gb\n",
    "import utils as ut\n",
    "import numpy as np\n",
    "import pandas as pd\n",
    "import seaborn as sns\n",
    "import ipywidgets as pyw\n",
    "import matplotlib.pyplot as plt\n",
    "\n",
    "from matplotlib import animation\n",
    "from IPython.display import HTML, clear_output"
   ]
  },
  {
   "cell_type": "markdown",
   "id": "interesting-genetics",
   "metadata": {},
   "source": [
    "# Global"
   ]
  },
  {
   "cell_type": "code",
   "execution_count": null,
   "id": "detailed-indonesian",
   "metadata": {},
   "outputs": [],
   "source": [
    "%matplotlib inline"
   ]
  },
  {
   "cell_type": "code",
   "execution_count": null,
   "id": "medium-arabic",
   "metadata": {
    "ExecuteTime": {
     "end_time": "2021-04-22T21:14:50.442595Z",
     "start_time": "2021-04-22T21:14:50.438637Z"
    }
   },
   "outputs": [],
   "source": [
    "importlib.reload(ut)\n",
    "\n",
    "plt.rcParams['text.usetex'] = True\n",
    "plt.style.use(['dark_background'])\n",
    "plt.style.use(['default'])"
   ]
  },
  {
   "cell_type": "markdown",
   "id": "sapphire-revolution",
   "metadata": {},
   "source": [
    "# Data"
   ]
  },
  {
   "cell_type": "code",
   "execution_count": null,
   "id": "comparable-imagination",
   "metadata": {},
   "outputs": [],
   "source": [
    "# load data\n",
    "data = ut.load_data(os.path.join('data', 'v8-ortho', 'forest-23*', '*.zip'))"
   ]
  },
  {
   "cell_type": "code",
   "execution_count": null,
   "id": "freelance-metabolism",
   "metadata": {},
   "outputs": [],
   "source": [
    "# simulation\n",
    "index = 0\n",
    "simulation = list(data.keys())[index]\n",
    "\n",
    "print('simulations:\\n', '\\n '.join([f'{i}: ' + (f'{x} [x]' if x == simulation else x) for i, x in enumerate(list(data.keys()))]))"
   ]
  },
  {
   "cell_type": "code",
   "execution_count": null,
   "id": "biblical-defeat",
   "metadata": {},
   "outputs": [],
   "source": [
    "# load images\n",
    "df = data[simulation]['images']\n",
    "df = df[df['type'] == 'monochrome']\n",
    "df = df.reset_index(drop=True)\n",
    "\n",
    "print('images:', df.shape[0])"
   ]
  },
  {
   "cell_type": "code",
   "execution_count": null,
   "id": "tamil-small",
   "metadata": {},
   "outputs": [],
   "source": [
    "# load parameters\n",
    "parameters = data[simulation]['parameters']\n",
    "parameters['images'] = df.shape[0]\n",
    "\n",
    "print('\\nparameters:', json.dumps(parameters, indent=4))"
   ]
  },
  {
   "cell_type": "markdown",
   "id": "specific-amateur",
   "metadata": {},
   "source": [
    "# Plots"
   ]
  },
  {
   "cell_type": "code",
   "execution_count": null,
   "id": "careful-african",
   "metadata": {
    "ExecuteTime": {
     "end_time": "2021-04-22T21:15:23.985974Z",
     "start_time": "2021-04-22T21:15:21.663593Z"
    }
   },
   "outputs": [],
   "source": [
    "fig, ax = plt.subplots(figsize=(16, 16))\n",
    "\n",
    "# plot stage image\n",
    "ut.plot_image(ax, data[simulation]['stage'], 'stage')\n",
    "\n",
    "# plot sample images\n",
    "ut.plot_images(df['data'], df['name'])"
   ]
  },
  {
   "cell_type": "code",
   "execution_count": null,
   "id": "coral-herald",
   "metadata": {
    "ExecuteTime": {
     "end_time": "2021-04-22T21:15:24.120171Z",
     "start_time": "2021-04-22T21:15:23.987587Z"
    }
   },
   "outputs": [],
   "source": [
    "df_integrate = df[:18]\n",
    "\n",
    "# integrate images\n",
    "integrated = ut.integrate_image(df_integrate, parameters, N=30)\n",
    "\n",
    "# grayscale images\n",
    "grayscaled = np.array([ut.grayscale_image(x) for x in df_integrate['data']])"
   ]
  },
  {
   "cell_type": "code",
   "execution_count": null,
   "id": "corrected-beverage",
   "metadata": {},
   "outputs": [],
   "source": [
    "image_vs_integrated = np.hstack([grayscaled, integrated]).reshape(integrated.shape * np.array([2, 1, 1]))\n",
    "image_vs_integrated_labels = np.dstack([df_integrate['name'], df_integrate['name'] + '-integral']).flatten()\n",
    "\n",
    "# plot integrated images\n",
    "ut.plot_images(image_vs_integrated, image_vs_integrated_labels, rows=6, cols=6)"
   ]
  },
  {
   "cell_type": "code",
   "execution_count": null,
   "id": "retired-february",
   "metadata": {},
   "outputs": [],
   "source": [
    "# integrate ground\n",
    "ground, alphas = ut.integrate_ground(df, parameters)\n",
    "\n",
    "# aggregate alphas\n",
    "df_alpha = ut.aggregate_alphas(alphas, sample=None)\n",
    "\n",
    "# calculate ground visibility\n",
    "scanned = np.count_nonzero(ground[:, :, 0])\n",
    "captured = np.count_nonzero(ground[:, :, 1])\n",
    "visibility = captured / scanned"
   ]
  },
  {
   "cell_type": "code",
   "execution_count": null,
   "id": "north-mother",
   "metadata": {
    "tags": []
   },
   "outputs": [],
   "source": [
    "fig, axs = plt.subplots(1, 3, figsize=(24, 6))\n",
    "\n",
    "# plot ground\n",
    "ut.plot_heatmap(axs[0], ground[:, :, 0], 'scanned pixels (count)')\n",
    "ut.plot_heatmap(axs[1], ground[:, :, 1], 'visible pixels (count)')\n",
    "ut.plot_heatmap(axs[2], ut.normalize_image(ground[:, :, 1] > 0), f'visibility ({visibility:.2f})')"
   ]
  },
  {
   "cell_type": "code",
   "execution_count": null,
   "id": "pressing-gibson",
   "metadata": {},
   "outputs": [],
   "source": [
    "fig, axs = plt.subplots(1, 3, figsize=(24, 6))\n",
    "\n",
    "# plot alpha\n",
    "for i, column in enumerate(['scanned', 'visible', 'ratio']):\n",
    "    df_alpha.plot(kind='line', x='alpha', y=column, label=f'{column} (mean)', ax=axs[i])"
   ]
  },
  {
   "cell_type": "code",
   "execution_count": null,
   "id": "digital-adapter",
   "metadata": {},
   "outputs": [],
   "source": [
    "# density\n",
    "density = 1 - visibility\n",
    "mean = 1 - (ground[:, :, 1] > 0).mean()\n",
    "\n",
    "print('density:', density)\n",
    "print('mean:', mean)"
   ]
  },
  {
   "cell_type": "markdown",
   "id": "collect-supply",
   "metadata": {},
   "source": [
    " "
   ]
  }
 ],
 "metadata": {
  "hide_input": false,
  "kernelspec": {
   "display_name": "Python 3",
   "language": "python",
   "name": "python3"
  },
  "language_info": {
   "codemirror_mode": {
    "name": "ipython",
    "version": 3
   },
   "file_extension": ".py",
   "mimetype": "text/x-python",
   "name": "python",
   "nbconvert_exporter": "python",
   "pygments_lexer": "ipython3",
   "version": "3.8.6"
  }
 },
 "nbformat": 4,
 "nbformat_minor": 5
}